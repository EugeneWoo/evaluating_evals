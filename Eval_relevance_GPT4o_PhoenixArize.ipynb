{
  "cells": [
    {
      "cell_type": "markdown",
      "metadata": {
        "id": "rmixeBPiFbPk"
      },
      "source": [
        "<h1 align=\"center\">Retrieval Relevance Evals</h1>\n",
        "\n",
        "Arize provides tooling to evaluate LLM applications, including tools to determine the relevance or irrelevance of documents retrieved by\n",
        "retrieval-augmented generation (RAG) applications. This relevance is then used to measure the quality of each retrieval using ranking metrics such as precision@k. In order to determine whether each retrieved document is relevant or irrelevant to the corresponding query, our approach is straightforward: ask an LLM.\n",
        "\n",
        "The purpose of this notebook is:\n",
        "\n",
        "- to evaluate the performance of an LLM-assisted approach to relevance classification against information retrieval datasets with ground-truth relevance labels,\n",
        "- to provide an experimental framework for users to iterate and improve on the default classification template.\n",
        "\n",
        "## Install Dependencies and Import Libraries"
      ]
    },
    {
      "cell_type": "markdown",
      "source": [
        "## Create GoogleDrive folder 'EVALUATING_EVALS' to store files"
      ],
      "metadata": {
        "id": "93j-etKHCbyJ"
      }
    },
    {
      "cell_type": "code",
      "source": [
        "from google.colab import drive\n",
        "drive.mount('/content/drive')\n",
        "os.chdir('/content/drive/MyDrive')"
      ],
      "metadata": {
        "colab": {
          "base_uri": "https://localhost:8080/"
        },
        "id": "jn962Jq_BVor",
        "outputId": "e6a862e4-0688-4ad3-aca2-94032a43e4b9"
      },
      "execution_count": 20,
      "outputs": [
        {
          "output_type": "stream",
          "name": "stdout",
          "text": [
            "Mounted at /content/drive\n"
          ]
        }
      ]
    },
    {
      "cell_type": "code",
      "source": [
        "import os\n",
        "\n",
        "folder_path = \"/content/drive/MyDrive/evaluating_evals\"\n",
        "\n",
        "# Create folder if it doesn't exist\n",
        "os.makedirs(folder_path, exist_ok=True)\n",
        "\n",
        "os.chdir('/content/drive/MyDrive/evaluating_evals')\n",
        "os.getcwd()"
      ],
      "metadata": {
        "colab": {
          "base_uri": "https://localhost:8080/",
          "height": 35
        },
        "id": "_7xduBB0QE_S",
        "outputId": "60c4baf6-38c3-4f74-de6f-3f3dfcf2ed72"
      },
      "execution_count": 24,
      "outputs": [
        {
          "output_type": "execute_result",
          "data": {
            "text/plain": [
              "'/content/drive/MyDrive/evaluating_evals'"
            ],
            "application/vnd.google.colaboratory.intrinsic+json": {
              "type": "string"
            }
          },
          "metadata": {},
          "execution_count": 24
        }
      ]
    },
    {
      "cell_type": "code",
      "source": [
        "# import shutil\n",
        "\n",
        "# # Define source and destination paths\n",
        "# src = \"/content/benchmark_samples.csv\"\n",
        "# dst = \"/content/drive/MyDrive/evaluating_evals/benchmark_samples.csv\"\n",
        "\n",
        "# # Make sure destination folder exists\n",
        "# os.makedirs(os.path.dirname(dst), exist_ok=True)\n",
        "\n",
        "# # Move the file\n",
        "# shutil.move(src, dst)"
      ],
      "metadata": {
        "colab": {
          "base_uri": "https://localhost:8080/",
          "height": 35
        },
        "id": "jn73ljC-EC6B",
        "outputId": "a138afe6-7ff9-4a1b-d0cb-2cd42f5c93bf"
      },
      "execution_count": 27,
      "outputs": [
        {
          "output_type": "execute_result",
          "data": {
            "text/plain": [
              "'/content/drive/MyDrive/evaluating_evals/benchmark_samples.csv'"
            ],
            "application/vnd.google.colaboratory.intrinsic+json": {
              "type": "string"
            }
          },
          "metadata": {},
          "execution_count": 27
        }
      ]
    },
    {
      "cell_type": "code",
      "source": [
        "# Create .env file\n",
        "env_path = os.path.join(folder_path, \".env\")\n",
        "with open(env_path, \"w\") as f:\n",
        "    f.write('OPENAI_API_KEY=\"your_openai_api_key\"\\n')\n",
        "    f.write(\"DEBUG=True\\n\")\n",
        "\n",
        "# Verify\n",
        "!cat /content/drive/MyDrive/evaluating_evals/.env"
      ],
      "metadata": {
        "id": "FzgfW1iZCyQr"
      },
      "execution_count": null,
      "outputs": []
    },
    {
      "cell_type": "code",
      "source": [
        "from dotenv import load_dotenv\n",
        "load_dotenv(dotenv_path=env_path)\n",
        "\n",
        "print(os.getenv(\"OPENAI_API_KEY\"))"
      ],
      "metadata": {
        "id": "Y4AEnsMIEb-i"
      },
      "execution_count": null,
      "outputs": []
    },
    {
      "cell_type": "code",
      "execution_count": 30,
      "metadata": {
        "id": "J1Q2UYOBFbPl"
      },
      "outputs": [],
      "source": [
        "#####################\n",
        "## N_EVAL_SAMPLE_SIZE\n",
        "#####################\n",
        "# Eval sample size determines the run time\n",
        "# 100 samples: GPT-4 ~ 80 sec / GPT-3.5 ~ 40 sec\n",
        "# 1,000 samples: GPT-4 ~15-17 min / GPT-3.5 ~ 6-7min (depending on retries)\n",
        "# 10,000 samples GPT-4 ~170 min / GPT-3.5 ~ 70mina\n",
        "\n",
        "N_EVAL_SAMPLE_SIZE = 30"
      ]
    },
    {
      "cell_type": "code",
      "execution_count": 29,
      "metadata": {
        "id": "bAJNmQyKFbPl"
      },
      "outputs": [],
      "source": [
        "!pip install -qq \"arize-phoenix-evals>=0.0.5\" \"openai>=1\" ipython matplotlib pycm scikit-learn tiktoken nest_asyncio 'httpx<0.28' dotenv"
      ]
    },
    {
      "cell_type": "markdown",
      "metadata": {
        "id": "kxi4sTgnFbPm"
      },
      "source": [
        "\u2139\ufe0f To enable async request submission in notebook environments like Jupyter or Google Colab, optionally use `nest_asyncio`. `nest_asyncio` globally patches `asyncio` to enable event loops to be re-entrant. This is not required for non-notebook environments.\n",
        "\n",
        "Without `nest_asyncio`, eval submission can be much slower, depending on your organization's rate limits. Speed increases of about 5x are typical."
      ]
    },
    {
      "cell_type": "code",
      "execution_count": 31,
      "metadata": {
        "id": "dU-zyQV0FbPm"
      },
      "outputs": [],
      "source": [
        "import nest_asyncio\n",
        "\n",
        "nest_asyncio.apply()"
      ]
    },
    {
      "cell_type": "code",
      "execution_count": 32,
      "metadata": {
        "id": "qHIGQEm2FbPm"
      },
      "outputs": [],
      "source": [
        "import os\n",
        "from getpass import getpass\n",
        "\n",
        "import matplotlib.pyplot as plt\n",
        "import pandas as pd\n",
        "from pycm import ConfusionMatrix\n",
        "from sklearn.metrics import classification_report\n",
        "\n",
        "from phoenix.evals import (\n",
        "    RAG_RELEVANCY_PROMPT_RAILS_MAP,\n",
        "    RAG_RELEVANCY_PROMPT_TEMPLATE,\n",
        "    OpenAIModel,\n",
        "    download_benchmark_dataset,\n",
        "    llm_classify,\n",
        ")\n",
        "\n",
        "pd.set_option(\"display.max_colwidth\", None)"
      ]
    },
    {
      "cell_type": "markdown",
      "metadata": {
        "id": "LhduIZakFbPm"
      },
      "source": [
        "## Download Benchmark Dataset\n",
        "\n",
        "We'll evaluate the evaluation system consisting of an LLM model and settings in addition to an evaluation prompt template against benchmark datasets of queries and retrieved documents with ground-truth relevance labels. Currently supported datasets include:\n",
        "\n",
        "- \"wiki_qa-train\"\n",
        "- \"ms_marco-v1.1-train\""
      ]
    },
    {
      "cell_type": "code",
      "execution_count": null,
      "metadata": {
        "id": "avSi19V9FbPm"
      },
      "outputs": [],
      "source": [
        "# df = download_benchmark_dataset(\n",
        "#     task=\"binary-relevance-classification\", dataset_name=\"wiki_qa-train\"\n",
        "# )\n",
        "# df.head()"
      ]
    },
    {
      "cell_type": "markdown",
      "metadata": {
        "id": "trecqntwFbPm"
      },
      "source": [
        "## Display Binary Relevance Classification Template\n",
        "\n",
        "View the default template used to classify relevance. You can tweak this template and evaluate its performance relative to the default."
      ]
    },
    {
      "cell_type": "code",
      "execution_count": 33,
      "metadata": {
        "collapsed": true,
        "colab": {
          "base_uri": "https://localhost:8080/"
        },
        "id": "NMqSSSykFbPm",
        "outputId": "ed4cb243-a203-4124-bf57-66a1e1ccd30e"
      },
      "outputs": [
        {
          "output_type": "stream",
          "name": "stdout",
          "text": [
            "\n",
            "You are comparing a reference text to a question and trying to determine if the reference text\n",
            "contains information relevant to answering the question. Here is the data:\n",
            "    [BEGIN DATA]\n",
            "    ************\n",
            "    [Question]: {input}\n",
            "    ************\n",
            "    [Reference text]: {reference}\n",
            "    ************\n",
            "    [END DATA]\n",
            "Compare the Question above to the Reference text. You must determine whether the Reference text\n",
            "contains information that can answer the Question. Please focus on whether the very specific\n",
            "question can be answered by the information in the Reference text.\n",
            "Your response must be single word, either \"relevant\" or \"unrelated\",\n",
            "and should not contain any text or characters aside from that word.\n",
            "\"unrelated\" means that the reference text does not contain an answer to the Question.\n",
            "\"relevant\" means the reference text contains an answer to the Question.\n"
          ]
        }
      ],
      "source": [
        "print(RAG_RELEVANCY_PROMPT_TEMPLATE)"
      ]
    },
    {
      "cell_type": "markdown",
      "metadata": {
        "id": "ImfneZZ-FbPm"
      },
      "source": [
        "The template variables are:\n",
        "\n",
        "- **input:** the question asked by a user\n",
        "- **reference:** the text of the retrieved document\n",
        "- **output:** a ground-truth relevance label"
      ]
    },
    {
      "cell_type": "markdown",
      "metadata": {
        "id": "DfoYeWZWFbPm"
      },
      "source": [
        "## Configure the LLM\n",
        "\n",
        "Configure your OpenAI API key."
      ]
    },
    {
      "cell_type": "code",
      "execution_count": null,
      "metadata": {
        "id": "WydzCytdFbPm"
      },
      "outputs": [],
      "source": [
        "from dotenv import load_dotenv\n",
        "\n",
        "load_dotenv()\n",
        "print(os.environ.get(\"OPENAI_API_KEY\"))"
      ]
    },
    {
      "cell_type": "markdown",
      "metadata": {
        "id": "WJ5PlSpMFbPn"
      },
      "source": [
        "## Sample (n=30) from \"wiki_qa-train\" benchmark dataset downloaded separately\n",
        "Sample size determines run time\n",
        "Recommend iterating small: 30 samples\n",
        "Then increasing to large test set"
      ]
    },
    {
      "cell_type": "code",
      "source": [
        "df_sample = pd.read_csv(\"benchmark_samples.csv\")\n",
        "df_sample.head()"
      ],
      "metadata": {
        "collapsed": true,
        "colab": {
          "base_uri": "https://localhost:8080/",
          "height": 1000
        },
        "id": "XzTThNinsL9w",
        "outputId": "2320bcec-5a3b-477b-9ffd-4647e693e64a"
      },
      "execution_count": 36,
      "outputs": [
        {
          "output_type": "execute_result",
          "data": {
            "text/plain": [
              "  query_id                                                 input  \\\n",
              "0    Q2717                                 what is pci Interface   \n",
              "1    Q1830                                 who created earth day   \n",
              "2     Q209              what caribbean island is part of France?   \n",
              "3    Q2218                who was the king during macbeth's time   \n",
              "4     Q557  how many spanish speaking people are there in the us   \n",
              "\n",
              "                          document_title  \\\n",
              "0                       Conventional PCI   \n",
              "1                              Earth Day   \n",
              "2                              Caribbean   \n",
              "3                                Macbeth   \n",
              "4  Spanish language in the United States   \n",
              "\n",
              "                                                                                                                                                                                                                                                                                                                                                                                                                                                                                                                                                                                                                                                                                                                                                                                                                                                                                                                                                                                                                                                                                                                                                                                                                                                                                                                                                                                                                                                                                                                                                                                                                                                                                                                                                                                                                                                                                                                                                                                                                                                                                                                                                                                                                                                                                                                                                                                                                                                                                                                                                                                                                                                                                                                                                                                                                                                                                                                   reference  \\\n",
              "0                                                                                                                                                                                                                                                                                                                                                                                                                                                                                                                                                                                                                                                                                                                                                                                                                                                                                    Conventional PCI (PCI is an initialism formed from Peripheral Component Interconnect, part of the PCI Local Bus standard and often shortened to just PCI) is a local computer bus for attaching hardware devices in a computer . The PCI bus supports the functions found on a processor bus , but in a standardized format that is independent of any particular processor. Devices connected to the bus appear to the processor to be connected directly to the processor bus, and are assigned addresses in the processor's address space. Attached devices can take either the form of an integrated circuit fitted onto the motherboard itself, called a planar device in the PCI specification, or an expansion card that fits into a slot. The PCI Local Bus was first implemented in IBM PC compatibles , where it displaced the combination of ISA plus one VESA Local Bus as the bus configuration. It has subsequently been adopted for other computer types. PCI and PCI-X are being replaced by PCI Express , but , most motherboards are still made with one or more PCI slots, which are sufficient for many uses. The PCI specification covers the physical size of the bus (including the size and spacing of the circuit board edge electrical contacts), electrical characteristics, bus timing, and protocols. The specification can be purchased from the PCI Special Interest Group (PCI-SIG). Typical PCI cards used in PCs include: network cards , sound cards , modems , extra ports such as USB or serial , TV tuner cards and disk controllers . PCI video cards replaced ISA and VESA cards, until growing bandwidth requirements outgrew the capabilities of PCI; the preferred interface for video cards became AGP , and then PCI Express. PCI video cards remain available for use with old PCs without AGP or PCI Express slots. Many devices previously provided on PCI expansion cards are now commonly integrated onto motherboards or available in universal serial bus and PCI Express versions.   \n",
              "1                                                                                                                                                                                                                                                                                                                                                                                                                                                                                                                                                                                                                                                                                                                                                                                                                                                                                                                                                                                                                                                                                                                                                                                                                                                                                                                                                                                                                                                                                                                                                                                                                                                                     The Earth Day Flag , the latest proposal of John McConnell for a flag of Earth Day Earth Day is an annual event, celebrated on April 22, on which events are held worldwide to demonstrate support for environmental protection. It was first celebrated in 1970, and is now coordinated globally by the Earth Day Network , and celebrated in more than 192 countries each year. In 1969 at a UNESCO Conference in San Francisco, the date proposed was March 21, 1970, the first day of spring in the northern hemisphere. This day of nature's equipoise was later sanctioned in a Proclamation signed by Secretary General U Thant at the United Nations . A month later a separate Earth Day was founded by United States Senator Gaylord Nelson as an environmental teach-in first held on April 22, 1970. Nelson was later awarded the Presidential Medal of Freedom Award in recognition of his work. While this April 22 Earth Day was focused on the United States, an organization launched by Denis Hayes , who was the original national coordinator in 1970, took it international in 1990 and organized events in 141 nations. Numerous communities celebrate Earth Week, an entire week of activities focused on environmental issues.   \n",
              "2                                                                                                                                                                                                                                                                                                                                                                                                                                                                                                                                                                                                                                                                                                                                                                                                                                                                                                                                                                                                                                                                                                                                                                                                                                                      The Caribbean ( or ; ; ; or more commonly Antilles) is a region that consists of the Caribbean Sea , its islands (some surrounded by the Caribbean Sea and some bordering both the Caribbean Sea and the North Atlantic Ocean), and the surrounding coasts. The region is southeast of the Gulf of Mexico and the North American mainland, east of Central America , and north of South America . Situated largely on the Caribbean Plate , the region comprises more than 700 islands, islets , reefs , and cays . (See the list .) These islands generally form island arcs that delineate the eastern and northern edges of the Caribbean Sea. The Caribbean islands, consisting of the Greater Antilles on the north and the Lesser Antilles on the south and east (including the Leeward Antilles ), are part of the somewhat larger West Indies grouping, which also includes the Lucayan Archipelago (comprising the Bahamas and Turks and Caicos Islands ) north of the Greater Antilles and Caribbean Sea. In a wider sense, the mainland countries of Belize and Guyana \u2013 historically and culturally part of the British West Indies \u2013 may be included. Geopolitically, the Caribbean islands are usually regarded as a subregion of North America and are organized into 30 territories including sovereign states , overseas departments , and dependencies . From January 3, 1958, to May 31, 1962, there was a short-lived country called the Federation of the West Indies composed of ten English-speaking Caribbean territories, all of which were then UK dependencies. The West Indies cricket team continues to represent many of those nations.   \n",
              "3  A poster for a c. 1884 American production of Macbeth, starring Thomas W. Keene. Depicted, counter clockwise from top-left, are: Macbeth and Banquo meet the witches ; just after the murder of Duncan ; Banquo's ghost; Macbeth duels Macduff; and Macbeth. Macbeth is a play written by William Shakespeare . It is considered one of his darkest and most powerful tragedies. Set in Scotland, the play dramatizes the corroding psychological and political effects produced when its protagonist, the Scottish lord Macbeth, chooses evil as the way to fulfill his ambition for power. He commits regicide to become king and then furthers his moral descent with a reign of murderous terror to stay in power, eventually plunging the country into civil war. In the end, he loses everything that gives meaning and purpose to his life before losing his life itself. The play is believed to have been written between 1603 and 1607, and is most commonly dated 1606. The earliest account of a performance of what was probably Shakespeare's play is April 1611, when Simon Forman recorded seeing such a play at the Globe Theatre . It was first published in the Folio of 1623 , possibly from a prompt book . It was most likely written during the reign of James I , who had been James VI of Scotland before he succeeded to the English throne in 1603. James was a patron of Shakespeare\u2019s acting company, and of all the plays Shakespeare wrote during James\u2019s reign, Macbeth most clearly reflects the playwright\u2019s relationship with the sovereign. Macbeth is Shakespeare\u2019s shortest tragedy, and tells the story of a brave Scottish general named Macbeth who receives a prophecy from a trio of witches that one day he will become King of Scotland. Consumed by ambition and spurred to action by his wife, Macbeth murders King Duncan and takes the throne for himself. His reign is racked with guilt and paranoia, and he soon becomes a tyrannical ruler as he is forced to commit more and more murders to protect himself from enmity and suspicion. The bloodbath swiftly takes Macbeth and Lady Macbeth into realms of arrogance, madness, and death. Shakespeare's source for the tragedy is the account of King Macbeth of Scotland , Macduff, and Duncan in Holinshed's Chronicles (1587), a history of England, Scotland and Ireland familiar to Shakespeare and his contemporaries, although the events in the play differ extensively from the history of the real Macbeth. In the backstage world of theatre, some believe that the play is cursed, and will not mention its title aloud, referring to it instead as \" the Scottish play \". Over the course of many centuries, the play has attracted some of the most renowned actors to the roles of Macbeth and Lady Macbeth. It has been adapted to film, television, opera , novels, comic books, and other media.   \n",
              "4                                                                                                                                                                                                                                                                                                                                                                                                                                                                                                                                                                                                                                                                                                                                                                                                                                                                                                                                                                                                                                                                                                                                                      The Spanish language is the second most used language in the United States . There are more Spanish speakers in the United States than there are speakers of Chinese, French , German , Italian , Hawaiian , and the Native American languages combined. According to the 2010 American Community Survey conducted by the U.S. Census Bureau , Spanish is the primary language spoken at home by almost 37 million people aged five or older, a figure more than double that of 1990. There are 45 million Hispanophones who speak Spanish as a first or second language, as well as six million Spanish language students, composing the largest national Spanish-speaking community outside of Mexico and making Spanish the Romance language and the Indo-European language with largest number of native speakers in the world. Roughly half of all U.S. Spanish speakers also speak English \"very well,\" based on the self-assessment Census question respondents. The language came to the country since the 16th and 17th centuries with the arrival of Spanish colonists in areas that would later become the states of Florida, Texas, Colorado, New Mexico, Arizona, Nevada, Utah, and California and of the Spanish explorers - who explored areas of 42 states-. Also west of Louisiana Territory was Spanish between 1763 - 1800 (year of the French recovery of territory), after the French and Indian War . After of the incorporation of these states to the U.S. in first half of 19th century, the Spanish language was later reinforced by the acquisition of Puerto Rico in 1898 and by later waves of the Hispanic emigration, basically from Hispanic America , to the United States beginning in the second half of 19th century until today.   \n",
              "\n",
              "                                                                                                                                                                                                                                                                                                                                                                                                                                                                                                                                                                                                                                                                                                                                                                                                                                                                                                                                                                                                                                                                                                                                                                                                                                                                                                                                                                                                                                                                                                                                                                                                                                                                                                                                                                                                                                                                                                                                                                                                                                                                                                                                                                                                                                                                                                                                                                                                                                                                                                                                                                                                                                                                                                                                                                                                                                                                                                 document_text_with_emphasis  \\\n",
              "0                                                                                                                                                                                                                                                                                                                                                                                                                                                                                                                                                                                                                                                                                                                                                                                                                                                                                    CONVENTIONAL PCI (PCI IS AN INITIALISM FORMED FROM PERIPHERAL COMPONENT INTERCONNECT, PART OF THE PCI LOCAL BUS STANDARD AND OFTEN SHORTENED TO JUST PCI) IS A LOCAL COMPUTER BUS FOR ATTACHING HARDWARE DEVICES IN A COMPUTER . The PCI bus supports the functions found on a processor bus , but in a standardized format that is independent of any particular processor. Devices connected to the bus appear to the processor to be connected directly to the processor bus, and are assigned addresses in the processor's address space. Attached devices can take either the form of an integrated circuit fitted onto the motherboard itself, called a planar device in the PCI specification, or an expansion card that fits into a slot. The PCI Local Bus was first implemented in IBM PC compatibles , where it displaced the combination of ISA plus one VESA Local Bus as the bus configuration. It has subsequently been adopted for other computer types. PCI and PCI-X are being replaced by PCI Express , but , most motherboards are still made with one or more PCI slots, which are sufficient for many uses. The PCI specification covers the physical size of the bus (including the size and spacing of the circuit board edge electrical contacts), electrical characteristics, bus timing, and protocols. The specification can be purchased from the PCI Special Interest Group (PCI-SIG). Typical PCI cards used in PCs include: network cards , sound cards , modems , extra ports such as USB or serial , TV tuner cards and disk controllers . PCI video cards replaced ISA and VESA cards, until growing bandwidth requirements outgrew the capabilities of PCI; the preferred interface for video cards became AGP , and then PCI Express. PCI video cards remain available for use with old PCs without AGP or PCI Express slots. Many devices previously provided on PCI expansion cards are now commonly integrated onto motherboards or available in universal serial bus and PCI Express versions.   \n",
              "1                                                                                                                                                                                                                                                                                                                                                                                                                                                                                                                                                                                                                                                                                                                                                                                                                                                                                                                                                                                                                                                                                                                                                                                                                                                                                                                                                                                                                                                                                                                                                                                                                                                                     The Earth Day Flag , the latest proposal of John McConnell for a flag of Earth Day Earth Day is an annual event, celebrated on April 22, on which events are held worldwide to demonstrate support for environmental protection. It was first celebrated in 1970, and is now coordinated globally by the Earth Day Network , and celebrated in more than 192 countries each year. In 1969 at a UNESCO Conference in San Francisco, the date proposed was March 21, 1970, the first day of spring in the northern hemisphere. This day of nature's equipoise was later sanctioned in a Proclamation signed by Secretary General U Thant at the United Nations . A month later a separate Earth Day was founded by United States Senator Gaylord Nelson as an environmental teach-in first held on April 22, 1970. Nelson was later awarded the Presidential Medal of Freedom Award in recognition of his work. While this April 22 Earth Day was focused on the United States, an organization launched by Denis Hayes , who was the original national coordinator in 1970, took it international in 1990 and organized events in 141 nations. Numerous communities celebrate Earth Week, an entire week of activities focused on environmental issues.   \n",
              "2                                                                                                                                                                                                                                                                                                                                                                                                                                                                                                                                                                                                                                                                                                                                                                                                                                                                                                                                                                                                                                                                                                                                                                                                                                                      The Caribbean ( or ; ; ; or more commonly Antilles) is a region that consists of the Caribbean Sea , its islands (some surrounded by the Caribbean Sea and some bordering both the Caribbean Sea and the North Atlantic Ocean), and the surrounding coasts. The region is southeast of the Gulf of Mexico and the North American mainland, east of Central America , and north of South America . Situated largely on the Caribbean Plate , the region comprises more than 700 islands, islets , reefs , and cays . (See the list .) These islands generally form island arcs that delineate the eastern and northern edges of the Caribbean Sea. The Caribbean islands, consisting of the Greater Antilles on the north and the Lesser Antilles on the south and east (including the Leeward Antilles ), are part of the somewhat larger West Indies grouping, which also includes the Lucayan Archipelago (comprising the Bahamas and Turks and Caicos Islands ) north of the Greater Antilles and Caribbean Sea. In a wider sense, the mainland countries of Belize and Guyana \u2013 historically and culturally part of the British West Indies \u2013 may be included. Geopolitically, the Caribbean islands are usually regarded as a subregion of North America and are organized into 30 territories including sovereign states , overseas departments , and dependencies . From January 3, 1958, to May 31, 1962, there was a short-lived country called the Federation of the West Indies composed of ten English-speaking Caribbean territories, all of which were then UK dependencies. The West Indies cricket team continues to represent many of those nations.   \n",
              "3  A poster for a c. 1884 American production of Macbeth, starring Thomas W. Keene. Depicted, counter clockwise from top-left, are: Macbeth and Banquo meet the witches ; just after the murder of Duncan ; Banquo's ghost; Macbeth duels Macduff; and Macbeth. Macbeth is a play written by William Shakespeare . It is considered one of his darkest and most powerful tragedies. Set in Scotland, the play dramatizes the corroding psychological and political effects produced when its protagonist, the Scottish lord Macbeth, chooses evil as the way to fulfill his ambition for power. He commits regicide to become king and then furthers his moral descent with a reign of murderous terror to stay in power, eventually plunging the country into civil war. In the end, he loses everything that gives meaning and purpose to his life before losing his life itself. The play is believed to have been written between 1603 and 1607, and is most commonly dated 1606. The earliest account of a performance of what was probably Shakespeare's play is April 1611, when Simon Forman recorded seeing such a play at the Globe Theatre . It was first published in the Folio of 1623 , possibly from a prompt book . It was most likely written during the reign of James I , who had been James VI of Scotland before he succeeded to the English throne in 1603. James was a patron of Shakespeare\u2019s acting company, and of all the plays Shakespeare wrote during James\u2019s reign, Macbeth most clearly reflects the playwright\u2019s relationship with the sovereign. Macbeth is Shakespeare\u2019s shortest tragedy, and tells the story of a brave Scottish general named Macbeth who receives a prophecy from a trio of witches that one day he will become King of Scotland. Consumed by ambition and spurred to action by his wife, Macbeth murders King Duncan and takes the throne for himself. His reign is racked with guilt and paranoia, and he soon becomes a tyrannical ruler as he is forced to commit more and more murders to protect himself from enmity and suspicion. The bloodbath swiftly takes Macbeth and Lady Macbeth into realms of arrogance, madness, and death. Shakespeare's source for the tragedy is the account of King Macbeth of Scotland , Macduff, and Duncan in Holinshed's Chronicles (1587), a history of England, Scotland and Ireland familiar to Shakespeare and his contemporaries, although the events in the play differ extensively from the history of the real Macbeth. In the backstage world of theatre, some believe that the play is cursed, and will not mention its title aloud, referring to it instead as \" the Scottish play \". Over the course of many centuries, the play has attracted some of the most renowned actors to the roles of Macbeth and Lady Macbeth. It has been adapted to film, television, opera , novels, comic books, and other media.   \n",
              "4                                                                                                                                                                                                                                                                                                                                                                                                                                                                                                                                                                                                                                                                                                                                                                                                                                                                                                                                                                                                                                                                                                                                                      The Spanish language is the second most used language in the United States . There are more Spanish speakers in the United States than there are speakers of Chinese, French , German , Italian , Hawaiian , and the Native American languages combined. ACCORDING TO THE 2010 AMERICAN COMMUNITY SURVEY CONDUCTED BY THE U.S. CENSUS BUREAU , SPANISH IS THE PRIMARY LANGUAGE SPOKEN AT HOME BY ALMOST 37 MILLION PEOPLE AGED FIVE OR OLDER, A FIGURE MORE THAN DOUBLE THAT OF 1990. There are 45 million Hispanophones who speak Spanish as a first or second language, as well as six million Spanish language students, composing the largest national Spanish-speaking community outside of Mexico and making Spanish the Romance language and the Indo-European language with largest number of native speakers in the world. Roughly half of all U.S. Spanish speakers also speak English \"very well,\" based on the self-assessment Census question respondents. The language came to the country since the 16th and 17th centuries with the arrival of Spanish colonists in areas that would later become the states of Florida, Texas, Colorado, New Mexico, Arizona, Nevada, Utah, and California and of the Spanish explorers - who explored areas of 42 states-. Also west of Louisiana Territory was Spanish between 1763 - 1800 (year of the French recovery of territory), after the French and Indian War . After of the incorporation of these states to the U.S. in first half of 19th century, the Spanish language was later reinforced by the acquisition of Puerto Rico in 1898 and by later waves of the Hispanic emigration, basically from Hispanic America , to the United States beginning in the second half of 19th century until today.   \n",
              "\n",
              "   relevant  \n",
              "0      True  \n",
              "1     False  \n",
              "2     False  \n",
              "3     False  \n",
              "4      True  "
            ],
            "text/html": [
              "\n",
              "  <div id=\"df-08f2c37c-b486-41c9-9e61-f7ca30c7f4ea\" class=\"colab-df-container\">\n",
              "    <div>\n",
              "<style scoped>\n",
              "    .dataframe tbody tr th:only-of-type {\n",
              "        vertical-align: middle;\n",
              "    }\n",
              "\n",
              "    .dataframe tbody tr th {\n",
              "        vertical-align: top;\n",
              "    }\n",
              "\n",
              "    .dataframe thead th {\n",
              "        text-align: right;\n",
              "    }\n",
              "</style>\n",
              "<table border=\"1\" class=\"dataframe\">\n",
              "  <thead>\n",
              "    <tr style=\"text-align: right;\">\n",
              "      <th></th>\n",
              "      <th>query_id</th>\n",
              "      <th>input</th>\n",
              "      <th>document_title</th>\n",
              "      <th>reference</th>\n",
              "      <th>document_text_with_emphasis</th>\n",
              "      <th>relevant</th>\n",
              "    </tr>\n",
              "  </thead>\n",
              "  <tbody>\n",
              "    <tr>\n",
              "      <th>0</th>\n",
              "      <td>Q2717</td>\n",
              "      <td>what is pci Interface</td>\n",
              "      <td>Conventional PCI</td>\n",
              "      <td>Conventional PCI (PCI is an initialism formed from Peripheral Component Interconnect, part of the PCI Local Bus standard and often shortened to just PCI) is a local computer bus for attaching hardware devices in a computer . The PCI bus supports the functions found on a processor bus , but in a standardized format that is independent of any particular processor. Devices connected to the bus appear to the processor to be connected directly to the processor bus, and are assigned addresses in the processor's address space. Attached devices can take either the form of an integrated circuit fitted onto the motherboard itself, called a planar device in the PCI specification, or an expansion card that fits into a slot. The PCI Local Bus was first implemented in IBM PC compatibles , where it displaced the combination of ISA plus one VESA Local Bus as the bus configuration. It has subsequently been adopted for other computer types. PCI and PCI-X are being replaced by PCI Express , but , most motherboards are still made with one or more PCI slots, which are sufficient for many uses. The PCI specification covers the physical size of the bus (including the size and spacing of the circuit board edge electrical contacts), electrical characteristics, bus timing, and protocols. The specification can be purchased from the PCI Special Interest Group (PCI-SIG). Typical PCI cards used in PCs include: network cards , sound cards , modems , extra ports such as USB or serial , TV tuner cards and disk controllers . PCI video cards replaced ISA and VESA cards, until growing bandwidth requirements outgrew the capabilities of PCI; the preferred interface for video cards became AGP , and then PCI Express. PCI video cards remain available for use with old PCs without AGP or PCI Express slots. Many devices previously provided on PCI expansion cards are now commonly integrated onto motherboards or available in universal serial bus and PCI Express versions.</td>\n",
              "      <td>CONVENTIONAL PCI (PCI IS AN INITIALISM FORMED FROM PERIPHERAL COMPONENT INTERCONNECT, PART OF THE PCI LOCAL BUS STANDARD AND OFTEN SHORTENED TO JUST PCI) IS A LOCAL COMPUTER BUS FOR ATTACHING HARDWARE DEVICES IN A COMPUTER . The PCI bus supports the functions found on a processor bus , but in a standardized format that is independent of any particular processor. Devices connected to the bus appear to the processor to be connected directly to the processor bus, and are assigned addresses in the processor's address space. Attached devices can take either the form of an integrated circuit fitted onto the motherboard itself, called a planar device in the PCI specification, or an expansion card that fits into a slot. The PCI Local Bus was first implemented in IBM PC compatibles , where it displaced the combination of ISA plus one VESA Local Bus as the bus configuration. It has subsequently been adopted for other computer types. PCI and PCI-X are being replaced by PCI Express , but , most motherboards are still made with one or more PCI slots, which are sufficient for many uses. The PCI specification covers the physical size of the bus (including the size and spacing of the circuit board edge electrical contacts), electrical characteristics, bus timing, and protocols. The specification can be purchased from the PCI Special Interest Group (PCI-SIG). Typical PCI cards used in PCs include: network cards , sound cards , modems , extra ports such as USB or serial , TV tuner cards and disk controllers . PCI video cards replaced ISA and VESA cards, until growing bandwidth requirements outgrew the capabilities of PCI; the preferred interface for video cards became AGP , and then PCI Express. PCI video cards remain available for use with old PCs without AGP or PCI Express slots. Many devices previously provided on PCI expansion cards are now commonly integrated onto motherboards or available in universal serial bus and PCI Express versions.</td>\n",
              "      <td>True</td>\n",
              "    </tr>\n",
              "    <tr>\n",
              "      <th>1</th>\n",
              "      <td>Q1830</td>\n",
              "      <td>who created earth day</td>\n",
              "      <td>Earth Day</td>\n",
              "      <td>The Earth Day Flag , the latest proposal of John McConnell for a flag of Earth Day Earth Day is an annual event, celebrated on April 22, on which events are held worldwide to demonstrate support for environmental protection. It was first celebrated in 1970, and is now coordinated globally by the Earth Day Network , and celebrated in more than 192 countries each year. In 1969 at a UNESCO Conference in San Francisco, the date proposed was March 21, 1970, the first day of spring in the northern hemisphere. This day of nature's equipoise was later sanctioned in a Proclamation signed by Secretary General U Thant at the United Nations . A month later a separate Earth Day was founded by United States Senator Gaylord Nelson as an environmental teach-in first held on April 22, 1970. Nelson was later awarded the Presidential Medal of Freedom Award in recognition of his work. While this April 22 Earth Day was focused on the United States, an organization launched by Denis Hayes , who was the original national coordinator in 1970, took it international in 1990 and organized events in 141 nations. Numerous communities celebrate Earth Week, an entire week of activities focused on environmental issues.</td>\n",
              "      <td>The Earth Day Flag , the latest proposal of John McConnell for a flag of Earth Day Earth Day is an annual event, celebrated on April 22, on which events are held worldwide to demonstrate support for environmental protection. It was first celebrated in 1970, and is now coordinated globally by the Earth Day Network , and celebrated in more than 192 countries each year. In 1969 at a UNESCO Conference in San Francisco, the date proposed was March 21, 1970, the first day of spring in the northern hemisphere. This day of nature's equipoise was later sanctioned in a Proclamation signed by Secretary General U Thant at the United Nations . A month later a separate Earth Day was founded by United States Senator Gaylord Nelson as an environmental teach-in first held on April 22, 1970. Nelson was later awarded the Presidential Medal of Freedom Award in recognition of his work. While this April 22 Earth Day was focused on the United States, an organization launched by Denis Hayes , who was the original national coordinator in 1970, took it international in 1990 and organized events in 141 nations. Numerous communities celebrate Earth Week, an entire week of activities focused on environmental issues.</td>\n",
              "      <td>False</td>\n",
              "    </tr>\n",
              "    <tr>\n",
              "      <th>2</th>\n",
              "      <td>Q209</td>\n",
              "      <td>what caribbean island is part of France?</td>\n",
              "      <td>Caribbean</td>\n",
              "      <td>The Caribbean ( or ; ; ; or more commonly Antilles) is a region that consists of the Caribbean Sea , its islands (some surrounded by the Caribbean Sea and some bordering both the Caribbean Sea and the North Atlantic Ocean), and the surrounding coasts. The region is southeast of the Gulf of Mexico and the North American mainland, east of Central America , and north of South America . Situated largely on the Caribbean Plate , the region comprises more than 700 islands, islets , reefs , and cays . (See the list .) These islands generally form island arcs that delineate the eastern and northern edges of the Caribbean Sea. The Caribbean islands, consisting of the Greater Antilles on the north and the Lesser Antilles on the south and east (including the Leeward Antilles ), are part of the somewhat larger West Indies grouping, which also includes the Lucayan Archipelago (comprising the Bahamas and Turks and Caicos Islands ) north of the Greater Antilles and Caribbean Sea. In a wider sense, the mainland countries of Belize and Guyana \u2013 historically and culturally part of the British West Indies \u2013 may be included. Geopolitically, the Caribbean islands are usually regarded as a subregion of North America and are organized into 30 territories including sovereign states , overseas departments , and dependencies . From January 3, 1958, to May 31, 1962, there was a short-lived country called the Federation of the West Indies composed of ten English-speaking Caribbean territories, all of which were then UK dependencies. The West Indies cricket team continues to represent many of those nations.</td>\n",
              "      <td>The Caribbean ( or ; ; ; or more commonly Antilles) is a region that consists of the Caribbean Sea , its islands (some surrounded by the Caribbean Sea and some bordering both the Caribbean Sea and the North Atlantic Ocean), and the surrounding coasts. The region is southeast of the Gulf of Mexico and the North American mainland, east of Central America , and north of South America . Situated largely on the Caribbean Plate , the region comprises more than 700 islands, islets , reefs , and cays . (See the list .) These islands generally form island arcs that delineate the eastern and northern edges of the Caribbean Sea. The Caribbean islands, consisting of the Greater Antilles on the north and the Lesser Antilles on the south and east (including the Leeward Antilles ), are part of the somewhat larger West Indies grouping, which also includes the Lucayan Archipelago (comprising the Bahamas and Turks and Caicos Islands ) north of the Greater Antilles and Caribbean Sea. In a wider sense, the mainland countries of Belize and Guyana \u2013 historically and culturally part of the British West Indies \u2013 may be included. Geopolitically, the Caribbean islands are usually regarded as a subregion of North America and are organized into 30 territories including sovereign states , overseas departments , and dependencies . From January 3, 1958, to May 31, 1962, there was a short-lived country called the Federation of the West Indies composed of ten English-speaking Caribbean territories, all of which were then UK dependencies. The West Indies cricket team continues to represent many of those nations.</td>\n",
              "      <td>False</td>\n",
              "    </tr>\n",
              "    <tr>\n",
              "      <th>3</th>\n",
              "      <td>Q2218</td>\n",
              "      <td>who was the king during macbeth's time</td>\n",
              "      <td>Macbeth</td>\n",
              "      <td>A poster for a c. 1884 American production of Macbeth, starring Thomas W. Keene. Depicted, counter clockwise from top-left, are: Macbeth and Banquo meet the witches ; just after the murder of Duncan ; Banquo's ghost; Macbeth duels Macduff; and Macbeth. Macbeth is a play written by William Shakespeare . It is considered one of his darkest and most powerful tragedies. Set in Scotland, the play dramatizes the corroding psychological and political effects produced when its protagonist, the Scottish lord Macbeth, chooses evil as the way to fulfill his ambition for power. He commits regicide to become king and then furthers his moral descent with a reign of murderous terror to stay in power, eventually plunging the country into civil war. In the end, he loses everything that gives meaning and purpose to his life before losing his life itself. The play is believed to have been written between 1603 and 1607, and is most commonly dated 1606. The earliest account of a performance of what was probably Shakespeare's play is April 1611, when Simon Forman recorded seeing such a play at the Globe Theatre . It was first published in the Folio of 1623 , possibly from a prompt book . It was most likely written during the reign of James I , who had been James VI of Scotland before he succeeded to the English throne in 1603. James was a patron of Shakespeare\u2019s acting company, and of all the plays Shakespeare wrote during James\u2019s reign, Macbeth most clearly reflects the playwright\u2019s relationship with the sovereign. Macbeth is Shakespeare\u2019s shortest tragedy, and tells the story of a brave Scottish general named Macbeth who receives a prophecy from a trio of witches that one day he will become King of Scotland. Consumed by ambition and spurred to action by his wife, Macbeth murders King Duncan and takes the throne for himself. His reign is racked with guilt and paranoia, and he soon becomes a tyrannical ruler as he is forced to commit more and more murders to protect himself from enmity and suspicion. The bloodbath swiftly takes Macbeth and Lady Macbeth into realms of arrogance, madness, and death. Shakespeare's source for the tragedy is the account of King Macbeth of Scotland , Macduff, and Duncan in Holinshed's Chronicles (1587), a history of England, Scotland and Ireland familiar to Shakespeare and his contemporaries, although the events in the play differ extensively from the history of the real Macbeth. In the backstage world of theatre, some believe that the play is cursed, and will not mention its title aloud, referring to it instead as \" the Scottish play \". Over the course of many centuries, the play has attracted some of the most renowned actors to the roles of Macbeth and Lady Macbeth. It has been adapted to film, television, opera , novels, comic books, and other media.</td>\n",
              "      <td>A poster for a c. 1884 American production of Macbeth, starring Thomas W. Keene. Depicted, counter clockwise from top-left, are: Macbeth and Banquo meet the witches ; just after the murder of Duncan ; Banquo's ghost; Macbeth duels Macduff; and Macbeth. Macbeth is a play written by William Shakespeare . It is considered one of his darkest and most powerful tragedies. Set in Scotland, the play dramatizes the corroding psychological and political effects produced when its protagonist, the Scottish lord Macbeth, chooses evil as the way to fulfill his ambition for power. He commits regicide to become king and then furthers his moral descent with a reign of murderous terror to stay in power, eventually plunging the country into civil war. In the end, he loses everything that gives meaning and purpose to his life before losing his life itself. The play is believed to have been written between 1603 and 1607, and is most commonly dated 1606. The earliest account of a performance of what was probably Shakespeare's play is April 1611, when Simon Forman recorded seeing such a play at the Globe Theatre . It was first published in the Folio of 1623 , possibly from a prompt book . It was most likely written during the reign of James I , who had been James VI of Scotland before he succeeded to the English throne in 1603. James was a patron of Shakespeare\u2019s acting company, and of all the plays Shakespeare wrote during James\u2019s reign, Macbeth most clearly reflects the playwright\u2019s relationship with the sovereign. Macbeth is Shakespeare\u2019s shortest tragedy, and tells the story of a brave Scottish general named Macbeth who receives a prophecy from a trio of witches that one day he will become King of Scotland. Consumed by ambition and spurred to action by his wife, Macbeth murders King Duncan and takes the throne for himself. His reign is racked with guilt and paranoia, and he soon becomes a tyrannical ruler as he is forced to commit more and more murders to protect himself from enmity and suspicion. The bloodbath swiftly takes Macbeth and Lady Macbeth into realms of arrogance, madness, and death. Shakespeare's source for the tragedy is the account of King Macbeth of Scotland , Macduff, and Duncan in Holinshed's Chronicles (1587), a history of England, Scotland and Ireland familiar to Shakespeare and his contemporaries, although the events in the play differ extensively from the history of the real Macbeth. In the backstage world of theatre, some believe that the play is cursed, and will not mention its title aloud, referring to it instead as \" the Scottish play \". Over the course of many centuries, the play has attracted some of the most renowned actors to the roles of Macbeth and Lady Macbeth. It has been adapted to film, television, opera , novels, comic books, and other media.</td>\n",
              "      <td>False</td>\n",
              "    </tr>\n",
              "    <tr>\n",
              "      <th>4</th>\n",
              "      <td>Q557</td>\n",
              "      <td>how many spanish speaking people are there in the us</td>\n",
              "      <td>Spanish language in the United States</td>\n",
              "      <td>The Spanish language is the second most used language in the United States . There are more Spanish speakers in the United States than there are speakers of Chinese, French , German , Italian , Hawaiian , and the Native American languages combined. According to the 2010 American Community Survey conducted by the U.S. Census Bureau , Spanish is the primary language spoken at home by almost 37 million people aged five or older, a figure more than double that of 1990. There are 45 million Hispanophones who speak Spanish as a first or second language, as well as six million Spanish language students, composing the largest national Spanish-speaking community outside of Mexico and making Spanish the Romance language and the Indo-European language with largest number of native speakers in the world. Roughly half of all U.S. Spanish speakers also speak English \"very well,\" based on the self-assessment Census question respondents. The language came to the country since the 16th and 17th centuries with the arrival of Spanish colonists in areas that would later become the states of Florida, Texas, Colorado, New Mexico, Arizona, Nevada, Utah, and California and of the Spanish explorers - who explored areas of 42 states-. Also west of Louisiana Territory was Spanish between 1763 - 1800 (year of the French recovery of territory), after the French and Indian War . After of the incorporation of these states to the U.S. in first half of 19th century, the Spanish language was later reinforced by the acquisition of Puerto Rico in 1898 and by later waves of the Hispanic emigration, basically from Hispanic America , to the United States beginning in the second half of 19th century until today.</td>\n",
              "      <td>The Spanish language is the second most used language in the United States . There are more Spanish speakers in the United States than there are speakers of Chinese, French , German , Italian , Hawaiian , and the Native American languages combined. ACCORDING TO THE 2010 AMERICAN COMMUNITY SURVEY CONDUCTED BY THE U.S. CENSUS BUREAU , SPANISH IS THE PRIMARY LANGUAGE SPOKEN AT HOME BY ALMOST 37 MILLION PEOPLE AGED FIVE OR OLDER, A FIGURE MORE THAN DOUBLE THAT OF 1990. There are 45 million Hispanophones who speak Spanish as a first or second language, as well as six million Spanish language students, composing the largest national Spanish-speaking community outside of Mexico and making Spanish the Romance language and the Indo-European language with largest number of native speakers in the world. Roughly half of all U.S. Spanish speakers also speak English \"very well,\" based on the self-assessment Census question respondents. The language came to the country since the 16th and 17th centuries with the arrival of Spanish colonists in areas that would later become the states of Florida, Texas, Colorado, New Mexico, Arizona, Nevada, Utah, and California and of the Spanish explorers - who explored areas of 42 states-. Also west of Louisiana Territory was Spanish between 1763 - 1800 (year of the French recovery of territory), after the French and Indian War . After of the incorporation of these states to the U.S. in first half of 19th century, the Spanish language was later reinforced by the acquisition of Puerto Rico in 1898 and by later waves of the Hispanic emigration, basically from Hispanic America , to the United States beginning in the second half of 19th century until today.</td>\n",
              "      <td>True</td>\n",
              "    </tr>\n",
              "  </tbody>\n",
              "</table>\n",
              "</div>\n",
              "    <div class=\"colab-df-buttons\">\n",
              "\n",
              "  <div class=\"colab-df-container\">\n",
              "    <button class=\"colab-df-convert\" onclick=\"convertToInteractive('df-08f2c37c-b486-41c9-9e61-f7ca30c7f4ea')\"\n",
              "            title=\"Convert this dataframe to an interactive table.\"\n",
              "            style=\"display:none;\">\n",
              "\n",
              "  <svg xmlns=\"http://www.w3.org/2000/svg\" height=\"24px\" viewBox=\"0 -960 960 960\">\n",
              "    <path d=\"M120-120v-720h720v720H120Zm60-500h600v-160H180v160Zm220 220h160v-160H400v160Zm0 220h160v-160H400v160ZM180-400h160v-160H180v160Zm440 0h160v-160H620v160ZM180-180h160v-160H180v160Zm440 0h160v-160H620v160Z\"/>\n",
              "  </svg>\n",
              "    </button>\n",
              "\n",
              "  <style>\n",
              "    .colab-df-container {\n",
              "      display:flex;\n",
              "      gap: 12px;\n",
              "    }\n",
              "\n",
              "    .colab-df-convert {\n",
              "      background-color: #E8F0FE;\n",
              "      border: none;\n",
              "      border-radius: 50%;\n",
              "      cursor: pointer;\n",
              "      display: none;\n",
              "      fill: #1967D2;\n",
              "      height: 32px;\n",
              "      padding: 0 0 0 0;\n",
              "      width: 32px;\n",
              "    }\n",
              "\n",
              "    .colab-df-convert:hover {\n",
              "      background-color: #E2EBFA;\n",
              "      box-shadow: 0px 1px 2px rgba(60, 64, 67, 0.3), 0px 1px 3px 1px rgba(60, 64, 67, 0.15);\n",
              "      fill: #174EA6;\n",
              "    }\n",
              "\n",
              "    .colab-df-buttons div {\n",
              "      margin-bottom: 4px;\n",
              "    }\n",
              "\n",
              "    [theme=dark] .colab-df-convert {\n",
              "      background-color: #3B4455;\n",
              "      fill: #D2E3FC;\n",
              "    }\n",
              "\n",
              "    [theme=dark] .colab-df-convert:hover {\n",
              "      background-color: #434B5C;\n",
              "      box-shadow: 0px 1px 3px 1px rgba(0, 0, 0, 0.15);\n",
              "      filter: drop-shadow(0px 1px 2px rgba(0, 0, 0, 0.3));\n",
              "      fill: #FFFFFF;\n",
              "    }\n",
              "  </style>\n",
              "\n",
              "    <script>\n",
              "      const buttonEl =\n",
              "        document.querySelector('#df-08f2c37c-b486-41c9-9e61-f7ca30c7f4ea button.colab-df-convert');\n",
              "      buttonEl.style.display =\n",
              "        google.colab.kernel.accessAllowed ? 'block' : 'none';\n",
              "\n",
              "      async function convertToInteractive(key) {\n",
              "        const element = document.querySelector('#df-08f2c37c-b486-41c9-9e61-f7ca30c7f4ea');\n",
              "        const dataTable =\n",
              "          await google.colab.kernel.invokeFunction('convertToInteractive',\n",
              "                                                    [key], {});\n",
              "        if (!dataTable) return;\n",
              "\n",
              "        const docLinkHtml = 'Like what you see? Visit the ' +\n",
              "          '<a target=\"_blank\" href=https://colab.research.google.com/notebooks/data_table.ipynb>data table notebook</a>'\n",
              "          + ' to learn more about interactive tables.';\n",
              "        element.innerHTML = '';\n",
              "        dataTable['output_type'] = 'display_data';\n",
              "        await google.colab.output.renderOutput(dataTable, element);\n",
              "        const docLink = document.createElement('div');\n",
              "        docLink.innerHTML = docLinkHtml;\n",
              "        element.appendChild(docLink);\n",
              "      }\n",
              "    </script>\n",
              "  </div>\n",
              "\n",
              "\n",
              "    <div id=\"df-d786457f-f179-4a22-96bc-3cce67b53e78\">\n",
              "      <button class=\"colab-df-quickchart\" onclick=\"quickchart('df-d786457f-f179-4a22-96bc-3cce67b53e78')\"\n",
              "                title=\"Suggest charts\"\n",
              "                style=\"display:none;\">\n",
              "\n",
              "<svg xmlns=\"http://www.w3.org/2000/svg\" height=\"24px\"viewBox=\"0 0 24 24\"\n",
              "     width=\"24px\">\n",
              "    <g>\n",
              "        <path d=\"M19 3H5c-1.1 0-2 .9-2 2v14c0 1.1.9 2 2 2h14c1.1 0 2-.9 2-2V5c0-1.1-.9-2-2-2zM9 17H7v-7h2v7zm4 0h-2V7h2v10zm4 0h-2v-4h2v4z\"/>\n",
              "    </g>\n",
              "</svg>\n",
              "      </button>\n",
              "\n",
              "<style>\n",
              "  .colab-df-quickchart {\n",
              "      --bg-color: #E8F0FE;\n",
              "      --fill-color: #1967D2;\n",
              "      --hover-bg-color: #E2EBFA;\n",
              "      --hover-fill-color: #174EA6;\n",
              "      --disabled-fill-color: #AAA;\n",
              "      --disabled-bg-color: #DDD;\n",
              "  }\n",
              "\n",
              "  [theme=dark] .colab-df-quickchart {\n",
              "      --bg-color: #3B4455;\n",
              "      --fill-color: #D2E3FC;\n",
              "      --hover-bg-color: #434B5C;\n",
              "      --hover-fill-color: #FFFFFF;\n",
              "      --disabled-bg-color: #3B4455;\n",
              "      --disabled-fill-color: #666;\n",
              "  }\n",
              "\n",
              "  .colab-df-quickchart {\n",
              "    background-color: var(--bg-color);\n",
              "    border: none;\n",
              "    border-radius: 50%;\n",
              "    cursor: pointer;\n",
              "    display: none;\n",
              "    fill: var(--fill-color);\n",
              "    height: 32px;\n",
              "    padding: 0;\n",
              "    width: 32px;\n",
              "  }\n",
              "\n",
              "  .colab-df-quickchart:hover {\n",
              "    background-color: var(--hover-bg-color);\n",
              "    box-shadow: 0 1px 2px rgba(60, 64, 67, 0.3), 0 1px 3px 1px rgba(60, 64, 67, 0.15);\n",
              "    fill: var(--button-hover-fill-color);\n",
              "  }\n",
              "\n",
              "  .colab-df-quickchart-complete:disabled,\n",
              "  .colab-df-quickchart-complete:disabled:hover {\n",
              "    background-color: var(--disabled-bg-color);\n",
              "    fill: var(--disabled-fill-color);\n",
              "    box-shadow: none;\n",
              "  }\n",
              "\n",
              "  .colab-df-spinner {\n",
              "    border: 2px solid var(--fill-color);\n",
              "    border-color: transparent;\n",
              "    border-bottom-color: var(--fill-color);\n",
              "    animation:\n",
              "      spin 1s steps(1) infinite;\n",
              "  }\n",
              "\n",
              "  @keyframes spin {\n",
              "    0% {\n",
              "      border-color: transparent;\n",
              "      border-bottom-color: var(--fill-color);\n",
              "      border-left-color: var(--fill-color);\n",
              "    }\n",
              "    20% {\n",
              "      border-color: transparent;\n",
              "      border-left-color: var(--fill-color);\n",
              "      border-top-color: var(--fill-color);\n",
              "    }\n",
              "    30% {\n",
              "      border-color: transparent;\n",
              "      border-left-color: var(--fill-color);\n",
              "      border-top-color: var(--fill-color);\n",
              "      border-right-color: var(--fill-color);\n",
              "    }\n",
              "    40% {\n",
              "      border-color: transparent;\n",
              "      border-right-color: var(--fill-color);\n",
              "      border-top-color: var(--fill-color);\n",
              "    }\n",
              "    60% {\n",
              "      border-color: transparent;\n",
              "      border-right-color: var(--fill-color);\n",
              "    }\n",
              "    80% {\n",
              "      border-color: transparent;\n",
              "      border-right-color: var(--fill-color);\n",
              "      border-bottom-color: var(--fill-color);\n",
              "    }\n",
              "    90% {\n",
              "      border-color: transparent;\n",
              "      border-bottom-color: var(--fill-color);\n",
              "    }\n",
              "  }\n",
              "</style>\n",
              "\n",
              "      <script>\n",
              "        async function quickchart(key) {\n",
              "          const quickchartButtonEl =\n",
              "            document.querySelector('#' + key + ' button');\n",
              "          quickchartButtonEl.disabled = true;  // To prevent multiple clicks.\n",
              "          quickchartButtonEl.classList.add('colab-df-spinner');\n",
              "          try {\n",
              "            const charts = await google.colab.kernel.invokeFunction(\n",
              "                'suggestCharts', [key], {});\n",
              "          } catch (error) {\n",
              "            console.error('Error during call to suggestCharts:', error);\n",
              "          }\n",
              "          quickchartButtonEl.classList.remove('colab-df-spinner');\n",
              "          quickchartButtonEl.classList.add('colab-df-quickchart-complete');\n",
              "        }\n",
              "        (() => {\n",
              "          let quickchartButtonEl =\n",
              "            document.querySelector('#df-d786457f-f179-4a22-96bc-3cce67b53e78 button');\n",
              "          quickchartButtonEl.style.display =\n",
              "            google.colab.kernel.accessAllowed ? 'block' : 'none';\n",
              "        })();\n",
              "      </script>\n",
              "    </div>\n",
              "\n",
              "    </div>\n",
              "  </div>\n"
            ],
            "application/vnd.google.colaboratory.intrinsic+json": {
              "type": "dataframe",
              "variable_name": "df_sample",
              "summary": "{\n  \"name\": \"df_sample\",\n  \"rows\": 30,\n  \"fields\": [\n    {\n      \"column\": \"query_id\",\n      \"properties\": {\n        \"dtype\": \"string\",\n        \"num_unique_values\": 30,\n        \"samples\": [\n          \"Q239\",\n          \"Q2241\",\n          \"Q1874\"\n        ],\n        \"semantic_type\": \"\",\n        \"description\": \"\"\n      }\n    },\n    {\n      \"column\": \"input\",\n      \"properties\": {\n        \"dtype\": \"string\",\n        \"num_unique_values\": 30,\n        \"samples\": [\n          \"what does metes and bounds mean\",\n          \"who are florida's 2010 senators\",\n          \"What region of France is Montargis in?\"\n        ],\n        \"semantic_type\": \"\",\n        \"description\": \"\"\n      }\n    },\n    {\n      \"column\": \"document_title\",\n      \"properties\": {\n        \"dtype\": \"string\",\n        \"num_unique_values\": 30,\n        \"samples\": [\n          \"Metes and bounds\",\n          \"United States Senate election in Florida, 2010\",\n          \"Montargis\"\n        ],\n        \"semantic_type\": \"\",\n        \"description\": \"\"\n      }\n    },\n    {\n      \"column\": \"reference\",\n      \"properties\": {\n        \"dtype\": \"string\",\n        \"num_unique_values\": 30,\n        \"samples\": [\n          \"Metes and bounds is a system or method of describing land, real property (in contrast to personal property) or real estate . The system has been used in England for many centuries, and is still used there in the definition of general boundaries. By custom, it was applied in the original Thirteen Colonies that became the United States , and in many other land jurisdictions based on English common law . Typically the system uses physical features of the local geography , along with directions and distances, to define and describe the boundaries of a parcel of land. The boundaries are described in a running prose style, working around the parcel in sequence, from a point of beginning , returning back to the same point; compare with the oral ritual of beating the bounds . It may include references to other adjoining parcels (and their owners), and it, in turn, could also be referred to in later surveys. At the time the description is compiled, it may have been marked on the ground with permanent monuments placed where there were no suitable natural monuments. The term \\\"metes\\\" refers to a boundary defined by the measurement of each straight run, specified by a distance between the terminal points, and an orientation or direction. A direction may be a simple compass bearing, or a precise orientation determined by accurate survey methods. The term \\\"bounds\\\" refers to a more general boundary description, such as along a certain watercourse, a stone wall, an adjoining public road way, or an existing building. The system is often used to define larger pieces of property (e.g. farms), and political subdivisions (e.g. town boundaries) where precise definition is not required or would be far too expensive, or previously designated boundaries can be incorporated into the description.\",\n          \"The 2010 United States Senate election in Florida took place on November 2, 2010 along with other elections to the United States Senate in other states as well as all elections to the United States House of Representatives and various state and local elections. Republican Marco Rubio , former Speaker of the Florida House of Representatives, defeated independent Charlie Crist and Democrat Kendrick Meek in a three-way race. One term Senator Mel Martinez was elected in a very close race against Democrat Betty Castor in 2004 with 49% of the vote. Martinez announced on December 2, 2008 that he would not seek re-election to the Senate, and would resign prior to the end of his term. In August 2009, Governor Charlie Crist announced that he would appoint his former Chief of Staff, George LeMieux , a Republican, to the Senate seat being vacated by Martinez. Governor Crist publicly announced he was running for the seat in mid-2009. At the time he received many Republican endorsements, such as the National Republican Senatorial Committee , Martinez, and the 2008 Republican presidential nominee John McCain . His support of the American Recovery and Reinvestment Act of 2009 hurt his popularity among conservatives, and candidate Marco Rubio surged. In April 2010 Crist announced he would drop out of the Republican primary and run as an independent. The National Republican Senatorial Committee withdrew its endorsement of Crist and demanded a refund of its campaign funds that it provided for the Crist campaign. Congressman Kendrick Meek was the first Democrat to declare his intention to run. Alexander Snitker was the first member of the Libertarian Party on the ballot for senator in Florida's history.\",\n          \"Floorplan of the Ch\\u00e2teau de Montargis Montargis is a commune in the Loiret department in north-central France on the Loing river. The town is located about south of Paris and east of Orl\\u00e9ans in the G\\u00e2tinais . Montargis is the second largest city in the Loiret, after Orl\\u00e9ans. It is near a large forest, and contains light industry and farming, including saffron . Due to its numerous canals and bridges, Montargis sometimes bills itself as the \\\"Venice of the G\\u00e2tinais.\\\" Though quite modern, it retains a medieval charm in its downtown area.\"\n        ],\n        \"semantic_type\": \"\",\n        \"description\": \"\"\n      }\n    },\n    {\n      \"column\": \"document_text_with_emphasis\",\n      \"properties\": {\n        \"dtype\": \"string\",\n        \"num_unique_values\": 30,\n        \"samples\": [\n          \"Metes and bounds is a system or method of describing land, real property (in contrast to personal property) or real estate . The system has been used in England for many centuries, and is still used there in the definition of general boundaries. By custom, it was applied in the original Thirteen Colonies that became the United States , and in many other land jurisdictions based on English common law . Typically the system uses physical features of the local geography , along with directions and distances, to define and describe the boundaries of a parcel of land. The boundaries are described in a running prose style, working around the parcel in sequence, from a point of beginning , returning back to the same point; compare with the oral ritual of beating the bounds . It may include references to other adjoining parcels (and their owners), and it, in turn, could also be referred to in later surveys. At the time the description is compiled, it may have been marked on the ground with permanent monuments placed where there were no suitable natural monuments. The term \\\"metes\\\" refers to a boundary defined by the measurement of each straight run, specified by a distance between the terminal points, and an orientation or direction. A direction may be a simple compass bearing, or a precise orientation determined by accurate survey methods. The term \\\"bounds\\\" refers to a more general boundary description, such as along a certain watercourse, a stone wall, an adjoining public road way, or an existing building. The system is often used to define larger pieces of property (e.g. farms), and political subdivisions (e.g. town boundaries) where precise definition is not required or would be far too expensive, or previously designated boundaries can be incorporated into the description.\",\n          \"The 2010 United States Senate election in Florida took place on November 2, 2010 along with other elections to the United States Senate in other states as well as all elections to the United States House of Representatives and various state and local elections. Republican Marco Rubio , former Speaker of the Florida House of Representatives, defeated independent Charlie Crist and Democrat Kendrick Meek in a three-way race. One term Senator Mel Martinez was elected in a very close race against Democrat Betty Castor in 2004 with 49% of the vote. Martinez announced on December 2, 2008 that he would not seek re-election to the Senate, and would resign prior to the end of his term. In August 2009, Governor Charlie Crist announced that he would appoint his former Chief of Staff, George LeMieux , a Republican, to the Senate seat being vacated by Martinez. Governor Crist publicly announced he was running for the seat in mid-2009. At the time he received many Republican endorsements, such as the National Republican Senatorial Committee , Martinez, and the 2008 Republican presidential nominee John McCain . His support of the American Recovery and Reinvestment Act of 2009 hurt his popularity among conservatives, and candidate Marco Rubio surged. In April 2010 Crist announced he would drop out of the Republican primary and run as an independent. The National Republican Senatorial Committee withdrew its endorsement of Crist and demanded a refund of its campaign funds that it provided for the Crist campaign. Congressman Kendrick Meek was the first Democrat to declare his intention to run. Alexander Snitker was the first member of the Libertarian Party on the ballot for senator in Florida's history.\",\n          \"Floorplan of the Ch\\u00e2teau de Montargis Montargis is a commune in the Loiret department in north-central France on the Loing river. THE TOWN IS LOCATED ABOUT SOUTH OF PARIS AND EAST OF ORL\\u00c9ANS IN THE G\\u00c2TINAIS . Montargis is the second largest city in the Loiret, after Orl\\u00e9ans. It is near a large forest, and contains light industry and farming, including saffron . Due to its numerous canals and bridges, Montargis sometimes bills itself as the \\\"Venice of the G\\u00e2tinais.\\\" Though quite modern, it retains a medieval charm in its downtown area.\"\n        ],\n        \"semantic_type\": \"\",\n        \"description\": \"\"\n      }\n    },\n    {\n      \"column\": \"relevant\",\n      \"properties\": {\n        \"dtype\": \"boolean\",\n        \"num_unique_values\": 2,\n        \"samples\": [\n          false,\n          true\n        ],\n        \"semantic_type\": \"\",\n        \"description\": \"\"\n      }\n    }\n  ]\n}"
            }
          },
          "metadata": {},
          "execution_count": 36
        }
      ]
    },
    {
      "cell_type": "markdown",
      "metadata": {
        "id": "VUVTOX0oFbPn"
      },
      "source": [
        "## LLM Evals: Retrieval Relevance Classifications GPT-4o\n",
        "Run relevance against a subset of the data.\n",
        "Instantiate the LLM and set parameters."
      ]
    },
    {
      "cell_type": "code",
      "source": [
        "model_4o = OpenAIModel(\n",
        "    model=\"gpt-4o\",\n",
        "    temperature=0.0,\n",
        ")"
      ],
      "metadata": {
        "id": "gtIFHMdIGTzT"
      },
      "execution_count": 54,
      "outputs": []
    },
    {
      "cell_type": "code",
      "source": [
        "model_4o(\"Hello world, this is a test if you are working?\")"
      ],
      "metadata": {
        "colab": {
          "base_uri": "https://localhost:8080/",
          "height": 35
        },
        "id": "pSpOhH7bGXP5",
        "outputId": "b21121b8-bbcf-4092-d201-cbb075e51101"
      },
      "execution_count": 56,
      "outputs": [
        {
          "output_type": "execute_result",
          "data": {
            "text/plain": [
              "\"Hello! Yes, I'm here and ready to help. How can I assist you today?\""
            ],
            "application/vnd.google.colaboratory.intrinsic+json": {
              "type": "string"
            }
          },
          "metadata": {},
          "execution_count": 56
        }
      ]
    },
    {
      "cell_type": "markdown",
      "metadata": {
        "id": "t9Q_xchEFbPn"
      },
      "source": [
        "## Run Relevance Classifications\n",
        "\n",
        "Run relevance classifications on the dataset"
      ]
    },
    {
      "cell_type": "code",
      "source": [
        "relevance_classifications_4o = llm_classify(\n",
        "    data=df_sample,\n",
        "    template=RAG_RELEVANCY_PROMPT_TEMPLATE,\n",
        "    model=model_4o,\n",
        "    rails=rails,\n",
        "    concurrency=20,\n",
        ")[\"label\"].tolist()"
      ],
      "metadata": {
        "colab": {
          "base_uri": "https://localhost:8080/",
          "height": 49,
          "referenced_widgets": [
            "2115da1076684d13a31ac73f1e6514c3",
            "b62d9c8d3f7a4c6ebc5eaa17c4407423",
            "bd4ebaf7470342b489754e3eaf37325c",
            "2d5897769af049f6b7f0603e0a24d968",
            "d10bd26942844ed5bdccc9fbfe8e9b4d",
            "066c88a2ae474b2989ce3bd602f12103",
            "7b4e891345c44e15b7046b04a20c21d4",
            "7197ae75f90142c6be4245f170f135f6",
            "33e08592faec445295856e193489be80",
            "c4f3f33c1d5b481987b74fe15a68b71f",
            "daf6027fd48f45a3adf38ff3d79404f5"
          ]
        },
        "id": "XlcJmbJ4GcHG",
        "outputId": "8a6e22d4-3795-4920-f2f0-9428d59400f4"
      },
      "execution_count": 57,
      "outputs": [
        {
          "output_type": "display_data",
          "data": {
            "text/plain": [
              "llm_classify |          | 0/30 (0.0%) | \u23f3 00:00<? | ?it/s"
            ],
            "application/vnd.jupyter.widget-view+json": {
              "version_major": 2,
              "version_minor": 0,
              "model_id": "2115da1076684d13a31ac73f1e6514c3"
            }
          },
          "metadata": {}
        }
      ]
    },
    {
      "cell_type": "markdown",
      "metadata": {
        "id": "aGseoqXMFbPn"
      },
      "source": [
        "## Evaluate Classifications\n",
        "\n",
        "Evaluate the predictions against ground-truth relevance labels."
      ]
    },
    {
      "cell_type": "code",
      "source": [
        "true_labels = df_sample[\"relevant\"].map(RAG_RELEVANCY_PROMPT_RAILS_MAP).tolist()\n",
        "\n",
        "print(classification_report(true_labels, relevance_classifications_4o, labels=rails))\n",
        "confusion_matrix = ConfusionMatrix(\n",
        "    actual_vector=true_labels, predict_vector=relevance_classifications_4o, classes=rails\n",
        ")\n",
        "confusion_matrix.plot(\n",
        "    cmap=plt.colormaps[\"Blues\"],\n",
        "    number_label=True,\n",
        "    normalized=True,\n",
        ")"
      ],
      "metadata": {
        "colab": {
          "base_uri": "https://localhost:8080/",
          "height": 646
        },
        "id": "k622YyxTGQlb",
        "outputId": "88b4cc71-ab8b-420f-d6c3-9d5da7802a25"
      },
      "execution_count": 58,
      "outputs": [
        {
          "output_type": "stream",
          "name": "stdout",
          "text": [
            "              precision    recall  f1-score   support\n",
            "\n",
            "    relevant       0.50      0.80      0.62        10\n",
            "   unrelated       0.86      0.60      0.71        20\n",
            "\n",
            "    accuracy                           0.67        30\n",
            "   macro avg       0.68      0.70      0.66        30\n",
            "weighted avg       0.74      0.67      0.68        30\n",
            "\n"
          ]
        },
        {
          "output_type": "execute_result",
          "data": {
            "text/plain": [
              "<Axes: title={'center': 'Confusion Matrix (Normalized)'}, xlabel='Predicted Classes', ylabel='Actual Classes'>"
            ]
          },
          "metadata": {},
          "execution_count": 58
        },
        {
          "output_type": "display_data",
          "data": {
            "text/plain": [
              "<Figure size 640x480 with 2 Axes>"
            ],
            "image/png": "[encoded data removed]"
          },
          "metadata": {}
        }
      ]
    },
    {
      "cell_type": "markdown",
      "metadata": {
        "id": "AET1zOWGFbPn"
      },
      "source": [
        "## Classifications with explanations\n",
        "\n",
        "When evaluating a dataset for relevance, it can be useful to know why the LLM classified a document as relevant or irrelevant. The following code block runs `llm_classify` with explanations turned on so that we can inspect why the LLM made the classification it did. There is speed tradeoff since more tokens is being generated but it can be highly informative when troubleshooting."
      ]
    },
    {
      "cell_type": "code",
      "execution_count": 65,
      "metadata": {
        "colab": {
          "base_uri": "https://localhost:8080/",
          "height": 260,
          "referenced_widgets": [
            "3f51cfd119de450e869950b1e7325bed",
            "7d84751ee5fe40c783c82d47ff1ac63e",
            "6753961a8d3b42ee9e87e1c41a30b6f2",
            "9e0c45381ba5457289536cb3179754dc",
            "5eec9c71c2cc4016a5e1821b1d8af384",
            "d4a884e1f5ed4e1db72b5e4fe398d207",
            "6714296a31fc459284db4c82981d8c4d",
            "a49becbb35fd410d96df0ad00671cfdc",
            "7ccc473eaea0455e850d5c0cb5b58fcf",
            "8676aefe653d4f97a4d93595d1e5f09b",
            "8f3edf2536ea4bdb88a7573d347167f9"
          ]
        },
        "id": "1k4AeeOSFbPn",
        "outputId": "e31d474e-7c8e-46c6-a3a0-2b747cdfa533",
        "collapsed": true
      },
      "outputs": [
        {
          "output_type": "stream",
          "name": "stdout",
          "text": [
            "Using prompt:\n",
            "\n",
            "[PromptPartTemplate(content_type=<PromptPartContentType.TEXT: 'text'>, template='\\nYou are comparing a reference text to a question and trying to determine if the reference text\\ncontains information relevant to answering the question. Here is the data:\\n    [BEGIN DATA]\\n    ************\\n    [Question]: {input}\\n    ************\\n    [Reference text]: {reference}\\n    ************\\n    [END DATA]\\nCompare the Question above to the Reference text. You must determine whether the Reference text\\ncontains information that can help answer the Question. First, write out in a step by step manner\\nan EXPLANATION to show how to arrive at the correct answer. Avoid simply stating the correct answer\\nat the outset. Your response LABEL must be single word, either \"relevant\" or \"unrelated\", and\\nshould not contain any text or characters aside from that word. \"unrelated\" means that the\\nreference text does not help answer to the Question. \"relevant\" means the reference text directly\\nanswers the question.\\n\\nExample response:\\n************\\nEXPLANATION: An explanation of your reasoning for why the label is \"relevant\" or \"unrelated\"\\nLABEL: \"relevant\" or \"unrelated\"\\n************\\n\\nEXPLANATION:')]\n",
            "OpenAI invocation parameters: {'model': 'gpt-4o', 'frequency_penalty': 0, 'presence_penalty': 0, 'top_p': 1, 'n': 1, 'timeout': None, 'max_completion_tokens': None, 'temperature': 0.0}\n"
          ]
        },
        {
          "output_type": "stream",
          "name": "stderr",
          "text": [
            "<ipython-input-65-3e82647a33ce>:2: DeprecationWarning: `dataframe` argument is deprecated; use `data` instead\n",
            "  relevance_classifications_df = llm_classify(\n"
          ]
        },
        {
          "output_type": "display_data",
          "data": {
            "text/plain": [
              "llm_classify |          | 0/5 (0.0%) | \u23f3 00:00<? | ?it/s"
            ],
            "application/vnd.jupyter.widget-view+json": {
              "version_major": 2,
              "version_minor": 0,
              "model_id": "3f51cfd119de450e869950b1e7325bed"
            }
          },
          "metadata": {}
        },
        {
          "output_type": "stream",
          "name": "stdout",
          "text": [
            "- Snapped 'unrelated' to rail: unrelated\n",
            "- Snapped 'unrelated' to rail: unrelated\n",
            "- Snapped 'unrelated' to rail: unrelated\n",
            "- Snapped 'relevant' to rail: relevant\n",
            "- Snapped 'unrelated' to rail: unrelated\n"
          ]
        }
      ],
      "source": [
        "small_df_sample = df_sample.copy().sample(n=5).reset_index(drop=True)\n",
        "relevance_classifications_df = llm_classify(\n",
        "    dataframe=small_df_sample,\n",
        "    template=RAG_RELEVANCY_PROMPT_TEMPLATE,\n",
        "    model=model_4o,\n",
        "    rails=rails,\n",
        "    provide_explanation=True,\n",
        "    verbose=True,\n",
        "    concurrency=20,\n",
        ")"
      ]
    },
    {
      "cell_type": "code",
      "execution_count": 66,
      "metadata": {
        "colab": {
          "base_uri": "https://localhost:8080/",
          "height": 1000
        },
        "id": "pU0N9TLZFbPn",
        "outputId": "121b6766-d6b1-4c61-b79e-ad3ce9bbbdff"
      },
      "outputs": [
        {
          "output_type": "execute_result",
          "data": {
            "text/plain": [
              "                                           input  \\\n",
              "0          where were pt boat hulls made in ww2?   \n",
              "1              when was the constitution written   \n",
              "2        what is the name of the founder of doha   \n",
              "3  what is the significance of Greenwich England   \n",
              "4         who was the king during macbeth's time   \n",
              "\n",
              "                                                                                                                                                                                                                                                                                                                                                                                                                                                                                                                                                                                                                                                                                                                                                                                                                                                                                                                                                                                                                                                                                                                                                                                                                                                                                                                                                                                                                                                                                                                                                                                                                                                                                                                                                                                                                                                                                                                                                                                                                                                                                                                                                                                                                                                                                                                                                                                                                                                                                                                                                                                                                                                                                                                                                                                                                                                                                                                   reference  \\\n",
              "0                                                                                                                                                                                                                                                                                                                                                                                                                                                                                                                                                                                                                                                                                                                                                                                                                                                                                                                                                                                                                                                                                                                                                                                                                                                                                                                                                                                                                                                                                                                                                                                                                                            PT-105 underway. PT boats were a variety of torpedo-armed fast attack craft used by the United States Navy in World War II to attack larger surface ships. \"PT\" is the US hull classification symbol for \"Patrol Torpedo\". The PT boat squadrons were nicknamed \"the mosquito fleet\". The Japanese called them \"Devil Boats\". The original pre\u2013 World War I torpedo boats were designed with \"displacement\" hulls . They displaced up to 300 tons and the top speed was . The PT boats used in World War II were built using the planing -type hull form developed for racing boats . They were much smaller (30\u201375 tons) and faster (35\u201340 knots). Both types were designed to strike at larger warships with torpedoes , using relatively high speed to get close, and small size to avoid being spotted and hit by gunfire. They were much less expensive than large warships. PT boats were much faster, smaller, and cheaper than conventional (displacement hull) vessels. During World War II, American PT boats engaged enemy destroyers and numerous other surface craft, ranging from small boats to large supply ships. PT boats also operated as gunboats against enemy small craft, such as armored barges used by the Japanese forces for inter-island transport.   \n",
              "1                                                                                                                                                                                                                                                                                                                                                                                                                                                                                                                                                                                                                                                                                                                                                                                                                                                                                                                                                                                                                                                                                                                                                                                                                                                                                                                                                                              A constitution is a set of fundamental principles or established precedents according to which a state or other organization is governed. These rules together make up, i.e. constitute, what the entity is. When these principles are written down into a single document or set of legal documents, those documents may be said to embody a written constitution; if they are written down in a single comprehensive document, it is said to embody a codified constitution. Constitutions concern different levels of organizations, from sovereign states to companies and unincorporated associations. A treaty which establishes an international organization is also its constitution, in that it would define how that organization is constituted. Within states , whether sovereign or federated , a constitution defines the principles upon which the state is based, the procedure in which laws are made and by whom. Some constitutions, especially codified constitutions, also act as limiters of state power, by establishing lines which a state's rulers cannot cross, such as fundamental rights . George Washington at Constitutional Convention of 1787, signing of U.S. Constitution. The Constitution of India is the longest written constitution of any sovereign country in the world, containing 448 articles, 12 schedules and 100 amendments, with 117,369 words in its English language version, while the United States Constitution is the shortest written constitution, at 7 articles and 27 amendments.   \n",
              "2                                                                                                                                                                                                                                                                                                                                                                                                                                                                                                                                                                                                                                                                                                                                                                                                                                                                                                                                                                                                                                                                                                                                                                                                                                                                                                                                                                                                                                                                                                                                                                                                                                                                                                                                         Satellite view of Doha Doha (, ' or ', literally: \"the big tree\") is the capital city of the state of Qatar . Located on the coast of the Persian Gulf , it had a population of 998,651 in 2008, and is also one of the municipalities of Qatar . Doha is Qatar's largest city, with over 60% of the nation's population residing in Doha or its surrounding suburbs , and is also the economic centre of the country. Doha also serves as the seat of government of Qatar, which is ruled by Sheikh Hamad bin Khalifa Al Thani . Doha is home to the Education City , an area devoted to research and education. Doha was the site of the first ministerial-level meeting of the Doha Development Round of World Trade Organization negotiations. The city of Doha held the 2006 Asian Games , which was the largest Asian Games ever held. Doha also hosted the 2011 Pan Arab Games and most of the games at the 2011 AFC Asian Cup . Doha hosted the UNFCCC Climate Negotiations (COP 18) December 2012 and will host a large number of the venues for the 2022 FIFA World Cup . The World Petroleum Council held the 20th World Petroleum Conference in Doha in December 2011.   \n",
              "3                                                                                                                                                                                                                                                                                                                                                                                                                                                                                                                                                                                                                                                                                                                                                                                                                                                                                                                                                                                                                                                                                                                                                                                                                                                                                                                                                                                                                                                                                                                                                                                                                                                                                                                                                                                                                                                                                                                                                                                                                          A prime meridian is a meridian , i.e. a line of longitude , at which longitude is defined to be 0\u00b0. A prime meridian and its opposite in a 360\u00b0-system, the 180th meridian (at 180\u00b0 longitude), form a great circle . This great circle divides the sphere, e.g. the Earth , into two hemispheres . If one uses directions of East and West from a defined prime meridian, then they can be called Eastern Hemisphere and Western Hemisphere . Gerardus Mercator in his Atlas Cosmographicae (1595) uses a prime meridian somewhere close to 25\u00b0W , passing just to the west of Santa Maria Island in the Atlantic . His 180th meridian runs along the Strait of Ani\u00e1n (Bering Strait) A prime meridian is ultimately arbitrary, unlike an equator , which is determined by the axis of rotation\u2014and various conventions have been used or advocated in different regions and throughout history.   \n",
              "4  A poster for a c. 1884 American production of Macbeth, starring Thomas W. Keene. Depicted, counter clockwise from top-left, are: Macbeth and Banquo meet the witches ; just after the murder of Duncan ; Banquo's ghost; Macbeth duels Macduff; and Macbeth. Macbeth is a play written by William Shakespeare . It is considered one of his darkest and most powerful tragedies. Set in Scotland, the play dramatizes the corroding psychological and political effects produced when its protagonist, the Scottish lord Macbeth, chooses evil as the way to fulfill his ambition for power. He commits regicide to become king and then furthers his moral descent with a reign of murderous terror to stay in power, eventually plunging the country into civil war. In the end, he loses everything that gives meaning and purpose to his life before losing his life itself. The play is believed to have been written between 1603 and 1607, and is most commonly dated 1606. The earliest account of a performance of what was probably Shakespeare's play is April 1611, when Simon Forman recorded seeing such a play at the Globe Theatre . It was first published in the Folio of 1623 , possibly from a prompt book . It was most likely written during the reign of James I , who had been James VI of Scotland before he succeeded to the English throne in 1603. James was a patron of Shakespeare\u2019s acting company, and of all the plays Shakespeare wrote during James\u2019s reign, Macbeth most clearly reflects the playwright\u2019s relationship with the sovereign. Macbeth is Shakespeare\u2019s shortest tragedy, and tells the story of a brave Scottish general named Macbeth who receives a prophecy from a trio of witches that one day he will become King of Scotland. Consumed by ambition and spurred to action by his wife, Macbeth murders King Duncan and takes the throne for himself. His reign is racked with guilt and paranoia, and he soon becomes a tyrannical ruler as he is forced to commit more and more murders to protect himself from enmity and suspicion. The bloodbath swiftly takes Macbeth and Lady Macbeth into realms of arrogance, madness, and death. Shakespeare's source for the tragedy is the account of King Macbeth of Scotland , Macduff, and Duncan in Holinshed's Chronicles (1587), a history of England, Scotland and Ireland familiar to Shakespeare and his contemporaries, although the events in the play differ extensively from the history of the real Macbeth. In the backstage world of theatre, some believe that the play is cursed, and will not mention its title aloud, referring to it instead as \" the Scottish play \". Over the course of many centuries, the play has attracted some of the most renowned actors to the roles of Macbeth and Lady Macbeth. It has been adapted to film, television, opera , novels, comic books, and other media.   \n",
              "\n",
              "       label  \\\n",
              "0  unrelated   \n",
              "1  unrelated   \n",
              "2  unrelated   \n",
              "3  unrelated   \n",
              "4   relevant   \n",
              "\n",
              "                                                                                                                                                                                                                                                                                                                                                                                                                                                                                                                                                                                                                                               explanation  \n",
              "0                                                                The question asks about the location where PT boat hulls were made during World War II. The reference text provides information about PT boats, including their design, purpose, and operational use during the war. However, it does not mention any specific locations or facilities where the hulls of PT boats were manufactured. The text focuses on the characteristics and roles of PT boats rather than their production sites. Therefore, the reference text does not contain information relevant to answering the question about the manufacturing locations of PT boat hulls.  \n",
              "1                                                                                                          The question asks about the date when the constitution was written. The reference text provides a general description of what a constitution is, its purpose, and some examples of constitutions, such as the U.S. Constitution and the Constitution of India. However, it does not provide any specific information about the date when any constitution, including the U.S. Constitution, was written. Therefore, the reference text does not contain information that directly answers the question about when the constitution was written.  \n",
              "2                                                                                                                                                                     The question asks for the name of the founder of Doha. The reference text provides information about Doha, including its status as the capital city of Qatar, its population, and its role as an economic and governmental center. However, it does not mention anything about the founder of Doha or provide any historical context regarding its founding. Therefore, the reference text does not contain information that can help answer the question about the founder of Doha.  \n",
              "3  The question asks about the significance of Greenwich, England. The reference text discusses the concept of a prime meridian, which is a line of longitude defined to be 0\u00b0. However, the text does not mention Greenwich, England specifically, nor does it explain its significance. The text provides historical context about different prime meridians used in the past, but it does not address the specific role of Greenwich as the location of the prime meridian that is widely recognized today. Therefore, the reference text does not contain information relevant to answering the question about the significance of Greenwich, England.  \n",
              "4                        The question asks about the king during Macbeth's time. The reference text provides information about the play 'Macbeth' by William Shakespeare, which is set in Scotland and involves the character Macbeth who murders King Duncan to become king himself. The text also mentions that the play was likely written during the reign of James I, who was James VI of Scotland before becoming the English king. This information is relevant because it provides context about the historical and fictional kings during the time of Macbeth, specifically mentioning King Duncan and the historical context of James I's reign.  "
            ],
            "text/html": [
              "\n",
              "  <div id=\"df-f3e75796-7e99-4f89-bc7d-451afd4c0a19\" class=\"colab-df-container\">\n",
              "    <div>\n",
              "<style scoped>\n",
              "    .dataframe tbody tr th:only-of-type {\n",
              "        vertical-align: middle;\n",
              "    }\n",
              "\n",
              "    .dataframe tbody tr th {\n",
              "        vertical-align: top;\n",
              "    }\n",
              "\n",
              "    .dataframe thead th {\n",
              "        text-align: right;\n",
              "    }\n",
              "</style>\n",
              "<table border=\"1\" class=\"dataframe\">\n",
              "  <thead>\n",
              "    <tr style=\"text-align: right;\">\n",
              "      <th></th>\n",
              "      <th>input</th>\n",
              "      <th>reference</th>\n",
              "      <th>label</th>\n",
              "      <th>explanation</th>\n",
              "    </tr>\n",
              "  </thead>\n",
              "  <tbody>\n",
              "    <tr>\n",
              "      <th>0</th>\n",
              "      <td>where were pt boat hulls made in ww2?</td>\n",
              "      <td>PT-105 underway. PT boats were a variety of torpedo-armed fast attack craft used by the United States Navy in World War II to attack larger surface ships. \"PT\" is the US hull classification symbol for \"Patrol Torpedo\". The PT boat squadrons were nicknamed \"the mosquito fleet\". The Japanese called them \"Devil Boats\". The original pre\u2013 World War I torpedo boats were designed with \"displacement\" hulls . They displaced up to 300 tons and the top speed was . The PT boats used in World War II were built using the planing -type hull form developed for racing boats . They were much smaller (30\u201375 tons) and faster (35\u201340 knots). Both types were designed to strike at larger warships with torpedoes , using relatively high speed to get close, and small size to avoid being spotted and hit by gunfire. They were much less expensive than large warships. PT boats were much faster, smaller, and cheaper than conventional (displacement hull) vessels. During World War II, American PT boats engaged enemy destroyers and numerous other surface craft, ranging from small boats to large supply ships. PT boats also operated as gunboats against enemy small craft, such as armored barges used by the Japanese forces for inter-island transport.</td>\n",
              "      <td>unrelated</td>\n",
              "      <td>The question asks about the location where PT boat hulls were made during World War II. The reference text provides information about PT boats, including their design, purpose, and operational use during the war. However, it does not mention any specific locations or facilities where the hulls of PT boats were manufactured. The text focuses on the characteristics and roles of PT boats rather than their production sites. Therefore, the reference text does not contain information relevant to answering the question about the manufacturing locations of PT boat hulls.</td>\n",
              "    </tr>\n",
              "    <tr>\n",
              "      <th>1</th>\n",
              "      <td>when was the constitution written</td>\n",
              "      <td>A constitution is a set of fundamental principles or established precedents according to which a state or other organization is governed. These rules together make up, i.e. constitute, what the entity is. When these principles are written down into a single document or set of legal documents, those documents may be said to embody a written constitution; if they are written down in a single comprehensive document, it is said to embody a codified constitution. Constitutions concern different levels of organizations, from sovereign states to companies and unincorporated associations. A treaty which establishes an international organization is also its constitution, in that it would define how that organization is constituted. Within states , whether sovereign or federated , a constitution defines the principles upon which the state is based, the procedure in which laws are made and by whom. Some constitutions, especially codified constitutions, also act as limiters of state power, by establishing lines which a state's rulers cannot cross, such as fundamental rights . George Washington at Constitutional Convention of 1787, signing of U.S. Constitution. The Constitution of India is the longest written constitution of any sovereign country in the world, containing 448 articles, 12 schedules and 100 amendments, with 117,369 words in its English language version, while the United States Constitution is the shortest written constitution, at 7 articles and 27 amendments.</td>\n",
              "      <td>unrelated</td>\n",
              "      <td>The question asks about the date when the constitution was written. The reference text provides a general description of what a constitution is, its purpose, and some examples of constitutions, such as the U.S. Constitution and the Constitution of India. However, it does not provide any specific information about the date when any constitution, including the U.S. Constitution, was written. Therefore, the reference text does not contain information that directly answers the question about when the constitution was written.</td>\n",
              "    </tr>\n",
              "    <tr>\n",
              "      <th>2</th>\n",
              "      <td>what is the name of the founder of doha</td>\n",
              "      <td>Satellite view of Doha Doha (, ' or ', literally: \"the big tree\") is the capital city of the state of Qatar . Located on the coast of the Persian Gulf , it had a population of 998,651 in 2008, and is also one of the municipalities of Qatar . Doha is Qatar's largest city, with over 60% of the nation's population residing in Doha or its surrounding suburbs , and is also the economic centre of the country. Doha also serves as the seat of government of Qatar, which is ruled by Sheikh Hamad bin Khalifa Al Thani . Doha is home to the Education City , an area devoted to research and education. Doha was the site of the first ministerial-level meeting of the Doha Development Round of World Trade Organization negotiations. The city of Doha held the 2006 Asian Games , which was the largest Asian Games ever held. Doha also hosted the 2011 Pan Arab Games and most of the games at the 2011 AFC Asian Cup . Doha hosted the UNFCCC Climate Negotiations (COP 18) December 2012 and will host a large number of the venues for the 2022 FIFA World Cup . The World Petroleum Council held the 20th World Petroleum Conference in Doha in December 2011.</td>\n",
              "      <td>unrelated</td>\n",
              "      <td>The question asks for the name of the founder of Doha. The reference text provides information about Doha, including its status as the capital city of Qatar, its population, and its role as an economic and governmental center. However, it does not mention anything about the founder of Doha or provide any historical context regarding its founding. Therefore, the reference text does not contain information that can help answer the question about the founder of Doha.</td>\n",
              "    </tr>\n",
              "    <tr>\n",
              "      <th>3</th>\n",
              "      <td>what is the significance of Greenwich England</td>\n",
              "      <td>A prime meridian is a meridian , i.e. a line of longitude , at which longitude is defined to be 0\u00b0. A prime meridian and its opposite in a 360\u00b0-system, the 180th meridian (at 180\u00b0 longitude), form a great circle . This great circle divides the sphere, e.g. the Earth , into two hemispheres . If one uses directions of East and West from a defined prime meridian, then they can be called Eastern Hemisphere and Western Hemisphere . Gerardus Mercator in his Atlas Cosmographicae (1595) uses a prime meridian somewhere close to 25\u00b0W , passing just to the west of Santa Maria Island in the Atlantic . His 180th meridian runs along the Strait of Ani\u00e1n (Bering Strait) A prime meridian is ultimately arbitrary, unlike an equator , which is determined by the axis of rotation\u2014and various conventions have been used or advocated in different regions and throughout history.</td>\n",
              "      <td>unrelated</td>\n",
              "      <td>The question asks about the significance of Greenwich, England. The reference text discusses the concept of a prime meridian, which is a line of longitude defined to be 0\u00b0. However, the text does not mention Greenwich, England specifically, nor does it explain its significance. The text provides historical context about different prime meridians used in the past, but it does not address the specific role of Greenwich as the location of the prime meridian that is widely recognized today. Therefore, the reference text does not contain information relevant to answering the question about the significance of Greenwich, England.</td>\n",
              "    </tr>\n",
              "    <tr>\n",
              "      <th>4</th>\n",
              "      <td>who was the king during macbeth's time</td>\n",
              "      <td>A poster for a c. 1884 American production of Macbeth, starring Thomas W. Keene. Depicted, counter clockwise from top-left, are: Macbeth and Banquo meet the witches ; just after the murder of Duncan ; Banquo's ghost; Macbeth duels Macduff; and Macbeth. Macbeth is a play written by William Shakespeare . It is considered one of his darkest and most powerful tragedies. Set in Scotland, the play dramatizes the corroding psychological and political effects produced when its protagonist, the Scottish lord Macbeth, chooses evil as the way to fulfill his ambition for power. He commits regicide to become king and then furthers his moral descent with a reign of murderous terror to stay in power, eventually plunging the country into civil war. In the end, he loses everything that gives meaning and purpose to his life before losing his life itself. The play is believed to have been written between 1603 and 1607, and is most commonly dated 1606. The earliest account of a performance of what was probably Shakespeare's play is April 1611, when Simon Forman recorded seeing such a play at the Globe Theatre . It was first published in the Folio of 1623 , possibly from a prompt book . It was most likely written during the reign of James I , who had been James VI of Scotland before he succeeded to the English throne in 1603. James was a patron of Shakespeare\u2019s acting company, and of all the plays Shakespeare wrote during James\u2019s reign, Macbeth most clearly reflects the playwright\u2019s relationship with the sovereign. Macbeth is Shakespeare\u2019s shortest tragedy, and tells the story of a brave Scottish general named Macbeth who receives a prophecy from a trio of witches that one day he will become King of Scotland. Consumed by ambition and spurred to action by his wife, Macbeth murders King Duncan and takes the throne for himself. His reign is racked with guilt and paranoia, and he soon becomes a tyrannical ruler as he is forced to commit more and more murders to protect himself from enmity and suspicion. The bloodbath swiftly takes Macbeth and Lady Macbeth into realms of arrogance, madness, and death. Shakespeare's source for the tragedy is the account of King Macbeth of Scotland , Macduff, and Duncan in Holinshed's Chronicles (1587), a history of England, Scotland and Ireland familiar to Shakespeare and his contemporaries, although the events in the play differ extensively from the history of the real Macbeth. In the backstage world of theatre, some believe that the play is cursed, and will not mention its title aloud, referring to it instead as \" the Scottish play \". Over the course of many centuries, the play has attracted some of the most renowned actors to the roles of Macbeth and Lady Macbeth. It has been adapted to film, television, opera , novels, comic books, and other media.</td>\n",
              "      <td>relevant</td>\n",
              "      <td>The question asks about the king during Macbeth's time. The reference text provides information about the play 'Macbeth' by William Shakespeare, which is set in Scotland and involves the character Macbeth who murders King Duncan to become king himself. The text also mentions that the play was likely written during the reign of James I, who was James VI of Scotland before becoming the English king. This information is relevant because it provides context about the historical and fictional kings during the time of Macbeth, specifically mentioning King Duncan and the historical context of James I's reign.</td>\n",
              "    </tr>\n",
              "  </tbody>\n",
              "</table>\n",
              "</div>\n",
              "    <div class=\"colab-df-buttons\">\n",
              "\n",
              "  <div class=\"colab-df-container\">\n",
              "    <button class=\"colab-df-convert\" onclick=\"convertToInteractive('df-f3e75796-7e99-4f89-bc7d-451afd4c0a19')\"\n",
              "            title=\"Convert this dataframe to an interactive table.\"\n",
              "            style=\"display:none;\">\n",
              "\n",
              "  <svg xmlns=\"http://www.w3.org/2000/svg\" height=\"24px\" viewBox=\"0 -960 960 960\">\n",
              "    <path d=\"M120-120v-720h720v720H120Zm60-500h600v-160H180v160Zm220 220h160v-160H400v160Zm0 220h160v-160H400v160ZM180-400h160v-160H180v160Zm440 0h160v-160H620v160ZM180-180h160v-160H180v160Zm440 0h160v-160H620v160Z\"/>\n",
              "  </svg>\n",
              "    </button>\n",
              "\n",
              "  <style>\n",
              "    .colab-df-container {\n",
              "      display:flex;\n",
              "      gap: 12px;\n",
              "    }\n",
              "\n",
              "    .colab-df-convert {\n",
              "      background-color: #E8F0FE;\n",
              "      border: none;\n",
              "      border-radius: 50%;\n",
              "      cursor: pointer;\n",
              "      display: none;\n",
              "      fill: #1967D2;\n",
              "      height: 32px;\n",
              "      padding: 0 0 0 0;\n",
              "      width: 32px;\n",
              "    }\n",
              "\n",
              "    .colab-df-convert:hover {\n",
              "      background-color: #E2EBFA;\n",
              "      box-shadow: 0px 1px 2px rgba(60, 64, 67, 0.3), 0px 1px 3px 1px rgba(60, 64, 67, 0.15);\n",
              "      fill: #174EA6;\n",
              "    }\n",
              "\n",
              "    .colab-df-buttons div {\n",
              "      margin-bottom: 4px;\n",
              "    }\n",
              "\n",
              "    [theme=dark] .colab-df-convert {\n",
              "      background-color: #3B4455;\n",
              "      fill: #D2E3FC;\n",
              "    }\n",
              "\n",
              "    [theme=dark] .colab-df-convert:hover {\n",
              "      background-color: #434B5C;\n",
              "      box-shadow: 0px 1px 3px 1px rgba(0, 0, 0, 0.15);\n",
              "      filter: drop-shadow(0px 1px 2px rgba(0, 0, 0, 0.3));\n",
              "      fill: #FFFFFF;\n",
              "    }\n",
              "  </style>\n",
              "\n",
              "    <script>\n",
              "      const buttonEl =\n",
              "        document.querySelector('#df-f3e75796-7e99-4f89-bc7d-451afd4c0a19 button.colab-df-convert');\n",
              "      buttonEl.style.display =\n",
              "        google.colab.kernel.accessAllowed ? 'block' : 'none';\n",
              "\n",
              "      async function convertToInteractive(key) {\n",
              "        const element = document.querySelector('#df-f3e75796-7e99-4f89-bc7d-451afd4c0a19');\n",
              "        const dataTable =\n",
              "          await google.colab.kernel.invokeFunction('convertToInteractive',\n",
              "                                                    [key], {});\n",
              "        if (!dataTable) return;\n",
              "\n",
              "        const docLinkHtml = 'Like what you see? Visit the ' +\n",
              "          '<a target=\"_blank\" href=https://colab.research.google.com/notebooks/data_table.ipynb>data table notebook</a>'\n",
              "          + ' to learn more about interactive tables.';\n",
              "        element.innerHTML = '';\n",
              "        dataTable['output_type'] = 'display_data';\n",
              "        await google.colab.output.renderOutput(dataTable, element);\n",
              "        const docLink = document.createElement('div');\n",
              "        docLink.innerHTML = docLinkHtml;\n",
              "        element.appendChild(docLink);\n",
              "      }\n",
              "    </script>\n",
              "  </div>\n",
              "\n",
              "\n",
              "    <div id=\"df-b15137b4-7b78-4e85-ab47-545cd9225260\">\n",
              "      <button class=\"colab-df-quickchart\" onclick=\"quickchart('df-b15137b4-7b78-4e85-ab47-545cd9225260')\"\n",
              "                title=\"Suggest charts\"\n",
              "                style=\"display:none;\">\n",
              "\n",
              "<svg xmlns=\"http://www.w3.org/2000/svg\" height=\"24px\"viewBox=\"0 0 24 24\"\n",
              "     width=\"24px\">\n",
              "    <g>\n",
              "        <path d=\"M19 3H5c-1.1 0-2 .9-2 2v14c0 1.1.9 2 2 2h14c1.1 0 2-.9 2-2V5c0-1.1-.9-2-2-2zM9 17H7v-7h2v7zm4 0h-2V7h2v10zm4 0h-2v-4h2v4z\"/>\n",
              "    </g>\n",
              "</svg>\n",
              "      </button>\n",
              "\n",
              "<style>\n",
              "  .colab-df-quickchart {\n",
              "      --bg-color: #E8F0FE;\n",
              "      --fill-color: #1967D2;\n",
              "      --hover-bg-color: #E2EBFA;\n",
              "      --hover-fill-color: #174EA6;\n",
              "      --disabled-fill-color: #AAA;\n",
              "      --disabled-bg-color: #DDD;\n",
              "  }\n",
              "\n",
              "  [theme=dark] .colab-df-quickchart {\n",
              "      --bg-color: #3B4455;\n",
              "      --fill-color: #D2E3FC;\n",
              "      --hover-bg-color: #434B5C;\n",
              "      --hover-fill-color: #FFFFFF;\n",
              "      --disabled-bg-color: #3B4455;\n",
              "      --disabled-fill-color: #666;\n",
              "  }\n",
              "\n",
              "  .colab-df-quickchart {\n",
              "    background-color: var(--bg-color);\n",
              "    border: none;\n",
              "    border-radius: 50%;\n",
              "    cursor: pointer;\n",
              "    display: none;\n",
              "    fill: var(--fill-color);\n",
              "    height: 32px;\n",
              "    padding: 0;\n",
              "    width: 32px;\n",
              "  }\n",
              "\n",
              "  .colab-df-quickchart:hover {\n",
              "    background-color: var(--hover-bg-color);\n",
              "    box-shadow: 0 1px 2px rgba(60, 64, 67, 0.3), 0 1px 3px 1px rgba(60, 64, 67, 0.15);\n",
              "    fill: var(--button-hover-fill-color);\n",
              "  }\n",
              "\n",
              "  .colab-df-quickchart-complete:disabled,\n",
              "  .colab-df-quickchart-complete:disabled:hover {\n",
              "    background-color: var(--disabled-bg-color);\n",
              "    fill: var(--disabled-fill-color);\n",
              "    box-shadow: none;\n",
              "  }\n",
              "\n",
              "  .colab-df-spinner {\n",
              "    border: 2px solid var(--fill-color);\n",
              "    border-color: transparent;\n",
              "    border-bottom-color: var(--fill-color);\n",
              "    animation:\n",
              "      spin 1s steps(1) infinite;\n",
              "  }\n",
              "\n",
              "  @keyframes spin {\n",
              "    0% {\n",
              "      border-color: transparent;\n",
              "      border-bottom-color: var(--fill-color);\n",
              "      border-left-color: var(--fill-color);\n",
              "    }\n",
              "    20% {\n",
              "      border-color: transparent;\n",
              "      border-left-color: var(--fill-color);\n",
              "      border-top-color: var(--fill-color);\n",
              "    }\n",
              "    30% {\n",
              "      border-color: transparent;\n",
              "      border-left-color: var(--fill-color);\n",
              "      border-top-color: var(--fill-color);\n",
              "      border-right-color: var(--fill-color);\n",
              "    }\n",
              "    40% {\n",
              "      border-color: transparent;\n",
              "      border-right-color: var(--fill-color);\n",
              "      border-top-color: var(--fill-color);\n",
              "    }\n",
              "    60% {\n",
              "      border-color: transparent;\n",
              "      border-right-color: var(--fill-color);\n",
              "    }\n",
              "    80% {\n",
              "      border-color: transparent;\n",
              "      border-right-color: var(--fill-color);\n",
              "      border-bottom-color: var(--fill-color);\n",
              "    }\n",
              "    90% {\n",
              "      border-color: transparent;\n",
              "      border-bottom-color: var(--fill-color);\n",
              "    }\n",
              "  }\n",
              "</style>\n",
              "\n",
              "      <script>\n",
              "        async function quickchart(key) {\n",
              "          const quickchartButtonEl =\n",
              "            document.querySelector('#' + key + ' button');\n",
              "          quickchartButtonEl.disabled = true;  // To prevent multiple clicks.\n",
              "          quickchartButtonEl.classList.add('colab-df-spinner');\n",
              "          try {\n",
              "            const charts = await google.colab.kernel.invokeFunction(\n",
              "                'suggestCharts', [key], {});\n",
              "          } catch (error) {\n",
              "            console.error('Error during call to suggestCharts:', error);\n",
              "          }\n",
              "          quickchartButtonEl.classList.remove('colab-df-spinner');\n",
              "          quickchartButtonEl.classList.add('colab-df-quickchart-complete');\n",
              "        }\n",
              "        (() => {\n",
              "          let quickchartButtonEl =\n",
              "            document.querySelector('#df-b15137b4-7b78-4e85-ab47-545cd9225260 button');\n",
              "          quickchartButtonEl.style.display =\n",
              "            google.colab.kernel.accessAllowed ? 'block' : 'none';\n",
              "        })();\n",
              "      </script>\n",
              "    </div>\n",
              "\n",
              "    </div>\n",
              "  </div>\n"
            ],
            "application/vnd.google.colaboratory.intrinsic+json": {
              "type": "dataframe",
              "summary": "{\n  \"name\": \"merged_df[[\\\"input\\\", \\\"reference\\\", \\\"label\\\", \\\"explanation\\\"]]\",\n  \"rows\": 5,\n  \"fields\": [\n    {\n      \"column\": \"input\",\n      \"properties\": {\n        \"dtype\": \"string\",\n        \"num_unique_values\": 5,\n        \"samples\": [\n          \"when was the constitution written\",\n          \"who was the king during macbeth's time\",\n          \"what is the name of the founder of doha\"\n        ],\n        \"semantic_type\": \"\",\n        \"description\": \"\"\n      }\n    },\n    {\n      \"column\": \"reference\",\n      \"properties\": {\n        \"dtype\": \"string\",\n        \"num_unique_values\": 5,\n        \"samples\": [\n          \"A constitution is a set of fundamental principles or established precedents according to which a state or other organization is governed. These rules together make up, i.e. constitute, what the entity is. When these principles are written down into a single document or set of legal documents, those documents may be said to embody a written constitution; if they are written down in a single comprehensive document, it is said to embody a codified constitution. Constitutions concern different levels of organizations, from sovereign states to companies and unincorporated associations. A treaty which establishes an international organization is also its constitution, in that it would define how that organization is constituted. Within states , whether sovereign or federated , a constitution defines the principles upon which the state is based, the procedure in which laws are made and by whom. Some constitutions, especially codified constitutions, also act as limiters of state power, by establishing lines which a state's rulers cannot cross, such as fundamental rights . George Washington at Constitutional Convention of 1787, signing of U.S. Constitution. The Constitution of India is the longest written constitution of any sovereign country in the world, containing 448 articles, 12 schedules and 100 amendments, with 117,369 words in its English language version, while the United States Constitution is the shortest written constitution, at 7 articles and 27 amendments.\",\n          \"A poster for a c. 1884 American production of Macbeth, starring Thomas W. Keene. Depicted, counter clockwise from top-left, are: Macbeth and Banquo meet the witches ; just after the murder of Duncan ; Banquo's ghost; Macbeth duels Macduff; and Macbeth. Macbeth is a play written by William Shakespeare . It is considered one of his darkest and most powerful tragedies. Set in Scotland, the play dramatizes the corroding psychological and political effects produced when its protagonist, the Scottish lord Macbeth, chooses evil as the way to fulfill his ambition for power. He commits regicide to become king and then furthers his moral descent with a reign of murderous terror to stay in power, eventually plunging the country into civil war. In the end, he loses everything that gives meaning and purpose to his life before losing his life itself. The play is believed to have been written between 1603 and 1607, and is most commonly dated 1606. The earliest account of a performance of what was probably Shakespeare's play is April 1611, when Simon Forman recorded seeing such a play at the Globe Theatre . It was first published in the Folio of 1623 , possibly from a prompt book . It was most likely written during the reign of James I , who had been James VI of Scotland before he succeeded to the English throne in 1603. James was a patron of Shakespeare\\u2019s acting company, and of all the plays Shakespeare wrote during James\\u2019s reign, Macbeth most clearly reflects the playwright\\u2019s relationship with the sovereign. Macbeth is Shakespeare\\u2019s shortest tragedy, and tells the story of a brave Scottish general named Macbeth who receives a prophecy from a trio of witches that one day he will become King of Scotland. Consumed by ambition and spurred to action by his wife, Macbeth murders King Duncan and takes the throne for himself. His reign is racked with guilt and paranoia, and he soon becomes a tyrannical ruler as he is forced to commit more and more murders to protect himself from enmity and suspicion. The bloodbath swiftly takes Macbeth and Lady Macbeth into realms of arrogance, madness, and death. Shakespeare's source for the tragedy is the account of King Macbeth of Scotland , Macduff, and Duncan in Holinshed's Chronicles (1587), a history of England, Scotland and Ireland familiar to Shakespeare and his contemporaries, although the events in the play differ extensively from the history of the real Macbeth. In the backstage world of theatre, some believe that the play is cursed, and will not mention its title aloud, referring to it instead as \\\" the Scottish play \\\". Over the course of many centuries, the play has attracted some of the most renowned actors to the roles of Macbeth and Lady Macbeth. It has been adapted to film, television, opera , novels, comic books, and other media.\",\n          \"Satellite view of Doha Doha (, ' or ', literally: \\\"the big tree\\\") is the capital city of the state of Qatar . Located on the coast of the Persian Gulf , it had a population of 998,651 in 2008, and is also one of the municipalities of Qatar . Doha is Qatar's largest city, with over 60% of the nation's population residing in Doha or its surrounding suburbs , and is also the economic centre of the country. Doha also serves as the seat of government of Qatar, which is ruled by Sheikh Hamad bin Khalifa Al Thani . Doha is home to the Education City , an area devoted to research and education. Doha was the site of the first ministerial-level meeting of the Doha Development Round of World Trade Organization negotiations. The city of Doha held the 2006 Asian Games , which was the largest Asian Games ever held. Doha also hosted the 2011 Pan Arab Games and most of the games at the 2011 AFC Asian Cup . Doha hosted the UNFCCC Climate Negotiations (COP 18) December 2012 and will host a large number of the venues for the 2022 FIFA World Cup . The World Petroleum Council held the 20th World Petroleum Conference in Doha in December 2011.\"\n        ],\n        \"semantic_type\": \"\",\n        \"description\": \"\"\n      }\n    },\n    {\n      \"column\": \"label\",\n      \"properties\": {\n        \"dtype\": \"category\",\n        \"num_unique_values\": 2,\n        \"samples\": [\n          \"relevant\",\n          \"unrelated\"\n        ],\n        \"semantic_type\": \"\",\n        \"description\": \"\"\n      }\n    },\n    {\n      \"column\": \"explanation\",\n      \"properties\": {\n        \"dtype\": \"string\",\n        \"num_unique_values\": 5,\n        \"samples\": [\n          \"The question asks about the date when the constitution was written. The reference text provides a general description of what a constitution is, its purpose, and some examples of constitutions, such as the U.S. Constitution and the Constitution of India. However, it does not provide any specific information about the date when any constitution, including the U.S. Constitution, was written. Therefore, the reference text does not contain information that directly answers the question about when the constitution was written.\",\n          \"The question asks about the king during Macbeth's time. The reference text provides information about the play 'Macbeth' by William Shakespeare, which is set in Scotland and involves the character Macbeth who murders King Duncan to become king himself. The text also mentions that the play was likely written during the reign of James I, who was James VI of Scotland before becoming the English king. This information is relevant because it provides context about the historical and fictional kings during the time of Macbeth, specifically mentioning King Duncan and the historical context of James I's reign.\"\n        ],\n        \"semantic_type\": \"\",\n        \"description\": \"\"\n      }\n    }\n  ]\n}"
            }
          },
          "metadata": {},
          "execution_count": 66
        }
      ],
      "source": [
        "# Let's view the data\n",
        "merged_df = pd.merge(\n",
        "    small_df_sample, relevance_classifications_df, left_index=True, right_index=True\n",
        ")\n",
        "merged_df[[\"input\", \"reference\", \"label\", \"explanation\"]].head()"
      ]
    }
  ],
  "metadata": {
    "kernelspec": {
      "display_name": "Python 3 (ipykernel)",
      "language": "python",
      "name": "python3"
    },
    "language_info": {
      "codemirror_mode": {
        "name": "ipython",
        "version": 3
      },
      "file_extension": ".py",
      "mimetype": "text/x-python",
      "name": "python",
      "nbconvert_exporter": "python",
      "pygments_lexer": "ipython3",
      "version": "3.10.3"
    },
    "colab": {
      "provenance": [],
      "collapsed_sections": [
        "LhduIZakFbPm"
      ]
    }
  },
  "nbformat": 4,
  "nbformat_minor": 0
}