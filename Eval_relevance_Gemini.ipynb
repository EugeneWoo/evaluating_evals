{
 "cells": [
  {
   "cell_type": "markdown",
   "id": "a5fd6bf1-390c-48e1-b180-36ea60e2fa44",
   "metadata": {},
   "source": [
    "## Environment setup "
   ]
  },
  {
   "cell_type": "code",
   "execution_count": 23,
   "id": "e997d513-c08f-4137-a721-bda4bc0eff4f",
   "metadata": {
    "jupyter": {
     "source_hidden": true
    }
   },
   "outputs": [
    {
     "data": {
      "text/plain": [
       "'/Users/eugenewoo/evaluating_evals/gemini_test.ipynb'"
      ]
     },
     "execution_count": 23,
     "metadata": {},
     "output_type": "execute_result"
    }
   ],
   "source": [
    "# import shutil\n",
    "\n",
    "# # Define source and destination paths\n",
    "# dst = \"/Users/eugenewoo/evaluating_evals/gemini_test.ipynb\"\n",
    "# src = \"/Users/eugenewoo/gemini_test.ipynb\"\n",
    "\n",
    "# # Make sure destination folder exists\n",
    "# os.makedirs(os.path.dirname(dst), exist_ok=True)\n",
    "\n",
    "# # Move the file\n",
    "# shutil.move(src, dst)"
   ]
  },
  {
   "cell_type": "code",
   "execution_count": 57,
   "id": "34edea71-d085-4636-9d01-e9cd142268d4",
   "metadata": {},
   "outputs": [
    {
     "data": {
      "text/plain": [
       "'/Users/eugenewoo/evaluating_evals'"
      ]
     },
     "execution_count": 57,
     "metadata": {},
     "output_type": "execute_result"
    }
   ],
   "source": [
    "import os\n",
    "\n",
    "os.chdir(\"/Users/eugenewoo/evaluating_evals/\")\n",
    "os.getcwd()"
   ]
  },
  {
   "cell_type": "code",
   "execution_count": 58,
   "id": "dd5661e5-43c0-443f-a8ef-314b3d7f5f85",
   "metadata": {},
   "outputs": [
    {
     "name": "stdout",
     "output_type": "stream",
     "text": [
      "\u001b[33mWARNING: google-cloud-aiplatform 1.71.1 does not provide the extra 'all'\u001b[0m\u001b[33m\n",
      "\u001b[0m\n",
      "\u001b[1m[\u001b[0m\u001b[34;49mnotice\u001b[0m\u001b[1;39;49m]\u001b[0m\u001b[39;49m A new release of pip is available: \u001b[0m\u001b[31;49m25.0.1\u001b[0m\u001b[39;49m -> \u001b[0m\u001b[32;49m25.1.1\u001b[0m\n",
      "\u001b[1m[\u001b[0m\u001b[34;49mnotice\u001b[0m\u001b[1;39;49m]\u001b[0m\u001b[39;49m To update, run: \u001b[0m\u001b[32;49m/opt/homebrew/Cellar/jupyterlab/4.3.4_1/libexec/bin/python -m pip install --upgrade pip\u001b[0m\n",
      "Note: you may need to restart the kernel to use updated packages.\n"
     ]
    }
   ],
   "source": [
    "pip install -q ipython matplotlib pycm scikit-learn tiktoken nest_asyncio dotenv vertexai \"google-cloud-aiplatform>=1.33.0\" \"google-generativeai\" tqdm"
   ]
  },
  {
   "cell_type": "code",
   "execution_count": 59,
   "id": "ccff294f-fb96-4ebf-8c4f-e38ee938ec02",
   "metadata": {},
   "outputs": [],
   "source": [
    "# # Create .env file\n",
    "# folder_path = os.getcwd()\n",
    "\n",
    "# env_path = os.path.join(folder_path, \".env\")\n",
    "# with open(env_path, \"w\") as f:\n",
    "#     f.write('GEMINI_API_KEY=\"your_gemini_api_key_here\"\\n')\n",
    "#     f.write(\"DEBUG=True\\n\")\n",
    "\n",
    "# # Verify\n",
    "# !cat /Users/eugenewoo/.env"
   ]
  },
  {
   "cell_type": "code",
   "execution_count": null,
   "id": "77c23cc9-6251-41db-b982-81cd54adbd6f",
   "metadata": {},
   "outputs": [],
   "source": [
    "from dotenv import load_dotenv\n",
    "import google.generativeai as genai\n",
    "\n",
    "# Configure Gemini API key\n",
    "load_dotenv()\n",
    "os.environ.get(\"GEMINI_API_KEY\")\n",
    "genai.configure()\n",
    "\n",
    "# Verify API key\n",
    "# !cat /Users/eugenewoo/.env"
   ]
  },
  {
   "cell_type": "markdown",
   "id": "2e27ab7b-0a1d-46cb-a35c-bdb1aaea2e23",
   "metadata": {},
   "source": [
    "## Setup Gemini model and Benchmark dataset for classification evaluation"
   ]
  },
  {
   "cell_type": "code",
   "execution_count": 61,
   "id": "70855763-324f-4f0c-be9c-15a836ee9853",
   "metadata": {},
   "outputs": [
    {
     "name": "stdout",
     "output_type": "stream",
     "text": [
      "Imagine you're training a dog. You want the dog to learn to sit.\n",
      "\n",
      "*   **Agent:** The dog is the \"agent\" – the thing learning.\n",
      "*   **Environment:** The room you're in is the \"environment\" – the world the agent interacts with.\n",
      "*   **Actions:** The dog can \"act\" by sitting, standing, lying down, etc.\n",
      "*   **Reward:** When the dog sits, you give it a treat (the \"reward\"). If it does anything else, it gets nothing.\n",
      "\n",
      "**Reinforcement learning (RL) is like teaching the dog to sit using rewards.** The dog tries different actions (sitting, standing, etc.). When it accidentally sits and gets a treat, it learns: \"Okay, sitting is a good thing to do in this environment because it gives me a reward!\"\n",
      "\n",
      "Over time, the dog tries sitting more often because it's more likely to get a treat. It's learned the \"policy\" (the best way to act) that maximizes its reward.\n",
      "\n",
      "**In more formal terms:**\n",
      "\n",
      "*   **The goal of RL is to train an agent to make a sequence of decisions that maximize a cumulative reward.**\n",
      "*   The agent learns by interacting with its environment and receiving feedback in the form of rewards.\n",
      "*   The agent isn't explicitly told what actions to take; it has to discover the best strategy through trial and error.\n",
      "\n",
      "**Think of it like this:**\n",
      "\n",
      "*   **Trial and Error:** The agent tries things.\n",
      "*   **Feedback:** The agent sees what the result of those actions are.\n",
      "*   **Learning:** The agent adjusts its behavior to do more of the things that lead to positive outcomes (rewards) and less of the things that lead to negative outcomes (or no reward).\n",
      "\n",
      "**Examples of Reinforcement Learning in Action:**\n",
      "\n",
      "*   **Training a video game AI:** The AI gets a reward for winning and a penalty for losing.\n",
      "*   **Robotics:** Teaching a robot to walk by rewarding it for moving forward.\n",
      "*   **Recommender Systems:** Suggesting products to users based on what they're most likely to buy (the \"reward\").\n",
      "\n",
      "Essentially, reinforcement learning teaches a computer (or robot, or program) to learn by rewarding it for good behavior and not rewarding it for bad behavior, just like training a pet!\n",
      "\n"
     ]
    }
   ],
   "source": [
    "# Create the model instance and assign to a variable\n",
    "model = genai.GenerativeModel(\"gemini-2.0-flash\")\n",
    "\n",
    "# Create a generation function using the model variable\n",
    "prompt = \"Explain the concept of reinforcement learning in simple terms.\"\n",
    "\n",
    "# Use the variable to generate a response\n",
    "response = model.generate_content(prompt)\n",
    "\n",
    "# Output the generated text\n",
    "print(response.text)"
   ]
  },
  {
   "cell_type": "code",
   "execution_count": 62,
   "id": "dd19904c-d243-4cb8-94ac-ffd389cc7dc4",
   "metadata": {},
   "outputs": [
    {
     "data": {
      "text/html": [
       "<div>\n",
       "<style scoped>\n",
       "    .dataframe tbody tr th:only-of-type {\n",
       "        vertical-align: middle;\n",
       "    }\n",
       "\n",
       "    .dataframe tbody tr th {\n",
       "        vertical-align: top;\n",
       "    }\n",
       "\n",
       "    .dataframe thead th {\n",
       "        text-align: right;\n",
       "    }\n",
       "</style>\n",
       "<table border=\"1\" class=\"dataframe\">\n",
       "  <thead>\n",
       "    <tr style=\"text-align: right;\">\n",
       "      <th></th>\n",
       "      <th>query_id</th>\n",
       "      <th>input</th>\n",
       "      <th>document_title</th>\n",
       "      <th>reference</th>\n",
       "      <th>document_text_with_emphasis</th>\n",
       "      <th>relevant</th>\n",
       "    </tr>\n",
       "  </thead>\n",
       "  <tbody>\n",
       "    <tr>\n",
       "      <th>0</th>\n",
       "      <td>Q2717</td>\n",
       "      <td>what is pci Interface</td>\n",
       "      <td>Conventional PCI</td>\n",
       "      <td>Conventional PCI (PCI is an initialism formed from Peripheral Component Interconnect, part of the PCI Local Bus standard and often shortened to just PCI) is a local computer bus for attaching hardware devices in a computer . The PCI bus supports the functions found on a processor bus , but in a standardized format that is independent of any particular processor. Devices connected to the bus appear to the processor to be connected directly to the processor bus, and are assigned addresses in the processor's address space. Attached devices can take either the form of an integrated circuit fitted onto the motherboard itself, called a planar device in the PCI specification, or an expansion card that fits into a slot. The PCI Local Bus was first implemented in IBM PC compatibles , where it displaced the combination of ISA plus one VESA Local Bus as the bus configuration. It has subsequently been adopted for other computer types. PCI and PCI-X are being replaced by PCI Express , but , most motherboards are still made with one or more PCI slots, which are sufficient for many uses. The PCI specification covers the physical size of the bus (including the size and spacing of the circuit board edge electrical contacts), electrical characteristics, bus timing, and protocols. The specification can be purchased from the PCI Special Interest Group (PCI-SIG). Typical PCI cards used in PCs include: network cards , sound cards , modems , extra ports such as USB or serial , TV tuner cards and disk controllers . PCI video cards replaced ISA and VESA cards, until growing bandwidth requirements outgrew the capabilities of PCI; the preferred interface for video cards became AGP , and then PCI Express. PCI video cards remain available for use with old PCs without AGP or PCI Express slots. Many devices previously provided on PCI expansion cards are now commonly integrated onto motherboards or available in universal serial bus and PCI Express versions.</td>\n",
       "      <td>CONVENTIONAL PCI (PCI IS AN INITIALISM FORMED FROM PERIPHERAL COMPONENT INTERCONNECT, PART OF THE PCI LOCAL BUS STANDARD AND OFTEN SHORTENED TO JUST PCI) IS A LOCAL COMPUTER BUS FOR ATTACHING HARDWARE DEVICES IN A COMPUTER . The PCI bus supports the functions found on a processor bus , but in a standardized format that is independent of any particular processor. Devices connected to the bus appear to the processor to be connected directly to the processor bus, and are assigned addresses in the processor's address space. Attached devices can take either the form of an integrated circuit fitted onto the motherboard itself, called a planar device in the PCI specification, or an expansion card that fits into a slot. The PCI Local Bus was first implemented in IBM PC compatibles , where it displaced the combination of ISA plus one VESA Local Bus as the bus configuration. It has subsequently been adopted for other computer types. PCI and PCI-X are being replaced by PCI Express , but , most motherboards are still made with one or more PCI slots, which are sufficient for many uses. The PCI specification covers the physical size of the bus (including the size and spacing of the circuit board edge electrical contacts), electrical characteristics, bus timing, and protocols. The specification can be purchased from the PCI Special Interest Group (PCI-SIG). Typical PCI cards used in PCs include: network cards , sound cards , modems , extra ports such as USB or serial , TV tuner cards and disk controllers . PCI video cards replaced ISA and VESA cards, until growing bandwidth requirements outgrew the capabilities of PCI; the preferred interface for video cards became AGP , and then PCI Express. PCI video cards remain available for use with old PCs without AGP or PCI Express slots. Many devices previously provided on PCI expansion cards are now commonly integrated onto motherboards or available in universal serial bus and PCI Express versions.</td>\n",
       "      <td>True</td>\n",
       "    </tr>\n",
       "    <tr>\n",
       "      <th>1</th>\n",
       "      <td>Q1830</td>\n",
       "      <td>who created earth day</td>\n",
       "      <td>Earth Day</td>\n",
       "      <td>The Earth Day Flag , the latest proposal of John McConnell for a flag of Earth Day Earth Day is an annual event, celebrated on April 22, on which events are held worldwide to demonstrate support for environmental protection. It was first celebrated in 1970, and is now coordinated globally by the Earth Day Network , and celebrated in more than 192 countries each year. In 1969 at a UNESCO Conference in San Francisco, the date proposed was March 21, 1970, the first day of spring in the northern hemisphere. This day of nature's equipoise was later sanctioned in a Proclamation signed by Secretary General U Thant at the United Nations . A month later a separate Earth Day was founded by United States Senator Gaylord Nelson as an environmental teach-in first held on April 22, 1970. Nelson was later awarded the Presidential Medal of Freedom Award in recognition of his work. While this April 22 Earth Day was focused on the United States, an organization launched by Denis Hayes , who was the original national coordinator in 1970, took it international in 1990 and organized events in 141 nations. Numerous communities celebrate Earth Week, an entire week of activities focused on environmental issues.</td>\n",
       "      <td>The Earth Day Flag , the latest proposal of John McConnell for a flag of Earth Day Earth Day is an annual event, celebrated on April 22, on which events are held worldwide to demonstrate support for environmental protection. It was first celebrated in 1970, and is now coordinated globally by the Earth Day Network , and celebrated in more than 192 countries each year. In 1969 at a UNESCO Conference in San Francisco, the date proposed was March 21, 1970, the first day of spring in the northern hemisphere. This day of nature's equipoise was later sanctioned in a Proclamation signed by Secretary General U Thant at the United Nations . A month later a separate Earth Day was founded by United States Senator Gaylord Nelson as an environmental teach-in first held on April 22, 1970. Nelson was later awarded the Presidential Medal of Freedom Award in recognition of his work. While this April 22 Earth Day was focused on the United States, an organization launched by Denis Hayes , who was the original national coordinator in 1970, took it international in 1990 and organized events in 141 nations. Numerous communities celebrate Earth Week, an entire week of activities focused on environmental issues.</td>\n",
       "      <td>False</td>\n",
       "    </tr>\n",
       "    <tr>\n",
       "      <th>2</th>\n",
       "      <td>Q209</td>\n",
       "      <td>what caribbean island is part of France?</td>\n",
       "      <td>Caribbean</td>\n",
       "      <td>The Caribbean ( or ; ; ; or more commonly Antilles) is a region that consists of the Caribbean Sea , its islands (some surrounded by the Caribbean Sea and some bordering both the Caribbean Sea and the North Atlantic Ocean), and the surrounding coasts. The region is southeast of the Gulf of Mexico and the North American mainland, east of Central America , and north of South America . Situated largely on the Caribbean Plate , the region comprises more than 700 islands, islets , reefs , and cays . (See the list .) These islands generally form island arcs that delineate the eastern and northern edges of the Caribbean Sea. The Caribbean islands, consisting of the Greater Antilles on the north and the Lesser Antilles on the south and east (including the Leeward Antilles ), are part of the somewhat larger West Indies grouping, which also includes the Lucayan Archipelago (comprising the Bahamas and Turks and Caicos Islands ) north of the Greater Antilles and Caribbean Sea. In a wider sense, the mainland countries of Belize and Guyana – historically and culturally part of the British West Indies – may be included. Geopolitically, the Caribbean islands are usually regarded as a subregion of North America and are organized into 30 territories including sovereign states , overseas departments , and dependencies . From January 3, 1958, to May 31, 1962, there was a short-lived country called the Federation of the West Indies composed of ten English-speaking Caribbean territories, all of which were then UK dependencies. The West Indies cricket team continues to represent many of those nations.</td>\n",
       "      <td>The Caribbean ( or ; ; ; or more commonly Antilles) is a region that consists of the Caribbean Sea , its islands (some surrounded by the Caribbean Sea and some bordering both the Caribbean Sea and the North Atlantic Ocean), and the surrounding coasts. The region is southeast of the Gulf of Mexico and the North American mainland, east of Central America , and north of South America . Situated largely on the Caribbean Plate , the region comprises more than 700 islands, islets , reefs , and cays . (See the list .) These islands generally form island arcs that delineate the eastern and northern edges of the Caribbean Sea. The Caribbean islands, consisting of the Greater Antilles on the north and the Lesser Antilles on the south and east (including the Leeward Antilles ), are part of the somewhat larger West Indies grouping, which also includes the Lucayan Archipelago (comprising the Bahamas and Turks and Caicos Islands ) north of the Greater Antilles and Caribbean Sea. In a wider sense, the mainland countries of Belize and Guyana – historically and culturally part of the British West Indies – may be included. Geopolitically, the Caribbean islands are usually regarded as a subregion of North America and are organized into 30 territories including sovereign states , overseas departments , and dependencies . From January 3, 1958, to May 31, 1962, there was a short-lived country called the Federation of the West Indies composed of ten English-speaking Caribbean territories, all of which were then UK dependencies. The West Indies cricket team continues to represent many of those nations.</td>\n",
       "      <td>False</td>\n",
       "    </tr>\n",
       "    <tr>\n",
       "      <th>3</th>\n",
       "      <td>Q2218</td>\n",
       "      <td>who was the king during macbeth's time</td>\n",
       "      <td>Macbeth</td>\n",
       "      <td>A poster for a c. 1884 American production of Macbeth, starring Thomas W. Keene. Depicted, counter clockwise from top-left, are: Macbeth and Banquo meet the witches ; just after the murder of Duncan ; Banquo's ghost; Macbeth duels Macduff; and Macbeth. Macbeth is a play written by William Shakespeare . It is considered one of his darkest and most powerful tragedies. Set in Scotland, the play dramatizes the corroding psychological and political effects produced when its protagonist, the Scottish lord Macbeth, chooses evil as the way to fulfill his ambition for power. He commits regicide to become king and then furthers his moral descent with a reign of murderous terror to stay in power, eventually plunging the country into civil war. In the end, he loses everything that gives meaning and purpose to his life before losing his life itself. The play is believed to have been written between 1603 and 1607, and is most commonly dated 1606. The earliest account of a performance of what was probably Shakespeare's play is April 1611, when Simon Forman recorded seeing such a play at the Globe Theatre . It was first published in the Folio of 1623 , possibly from a prompt book . It was most likely written during the reign of James I , who had been James VI of Scotland before he succeeded to the English throne in 1603. James was a patron of Shakespeare’s acting company, and of all the plays Shakespeare wrote during James’s reign, Macbeth most clearly reflects the playwright’s relationship with the sovereign. Macbeth is Shakespeare’s shortest tragedy, and tells the story of a brave Scottish general named Macbeth who receives a prophecy from a trio of witches that one day he will become King of Scotland. Consumed by ambition and spurred to action by his wife, Macbeth murders King Duncan and takes the throne for himself. His reign is racked with guilt and paranoia, and he soon becomes a tyrannical ruler as he is forced to commit more and more murders to protect himself from enmity and suspicion. The bloodbath swiftly takes Macbeth and Lady Macbeth into realms of arrogance, madness, and death. Shakespeare's source for the tragedy is the account of King Macbeth of Scotland , Macduff, and Duncan in Holinshed's Chronicles (1587), a history of England, Scotland and Ireland familiar to Shakespeare and his contemporaries, although the events in the play differ extensively from the history of the real Macbeth. In the backstage world of theatre, some believe that the play is cursed, and will not mention its title aloud, referring to it instead as \" the Scottish play \". Over the course of many centuries, the play has attracted some of the most renowned actors to the roles of Macbeth and Lady Macbeth. It has been adapted to film, television, opera , novels, comic books, and other media.</td>\n",
       "      <td>A poster for a c. 1884 American production of Macbeth, starring Thomas W. Keene. Depicted, counter clockwise from top-left, are: Macbeth and Banquo meet the witches ; just after the murder of Duncan ; Banquo's ghost; Macbeth duels Macduff; and Macbeth. Macbeth is a play written by William Shakespeare . It is considered one of his darkest and most powerful tragedies. Set in Scotland, the play dramatizes the corroding psychological and political effects produced when its protagonist, the Scottish lord Macbeth, chooses evil as the way to fulfill his ambition for power. He commits regicide to become king and then furthers his moral descent with a reign of murderous terror to stay in power, eventually plunging the country into civil war. In the end, he loses everything that gives meaning and purpose to his life before losing his life itself. The play is believed to have been written between 1603 and 1607, and is most commonly dated 1606. The earliest account of a performance of what was probably Shakespeare's play is April 1611, when Simon Forman recorded seeing such a play at the Globe Theatre . It was first published in the Folio of 1623 , possibly from a prompt book . It was most likely written during the reign of James I , who had been James VI of Scotland before he succeeded to the English throne in 1603. James was a patron of Shakespeare’s acting company, and of all the plays Shakespeare wrote during James’s reign, Macbeth most clearly reflects the playwright’s relationship with the sovereign. Macbeth is Shakespeare’s shortest tragedy, and tells the story of a brave Scottish general named Macbeth who receives a prophecy from a trio of witches that one day he will become King of Scotland. Consumed by ambition and spurred to action by his wife, Macbeth murders King Duncan and takes the throne for himself. His reign is racked with guilt and paranoia, and he soon becomes a tyrannical ruler as he is forced to commit more and more murders to protect himself from enmity and suspicion. The bloodbath swiftly takes Macbeth and Lady Macbeth into realms of arrogance, madness, and death. Shakespeare's source for the tragedy is the account of King Macbeth of Scotland , Macduff, and Duncan in Holinshed's Chronicles (1587), a history of England, Scotland and Ireland familiar to Shakespeare and his contemporaries, although the events in the play differ extensively from the history of the real Macbeth. In the backstage world of theatre, some believe that the play is cursed, and will not mention its title aloud, referring to it instead as \" the Scottish play \". Over the course of many centuries, the play has attracted some of the most renowned actors to the roles of Macbeth and Lady Macbeth. It has been adapted to film, television, opera , novels, comic books, and other media.</td>\n",
       "      <td>False</td>\n",
       "    </tr>\n",
       "    <tr>\n",
       "      <th>4</th>\n",
       "      <td>Q557</td>\n",
       "      <td>how many spanish speaking people are there in the us</td>\n",
       "      <td>Spanish language in the United States</td>\n",
       "      <td>The Spanish language is the second most used language in the United States . There are more Spanish speakers in the United States than there are speakers of Chinese, French , German , Italian , Hawaiian , and the Native American languages combined. According to the 2010 American Community Survey conducted by the U.S. Census Bureau , Spanish is the primary language spoken at home by almost 37 million people aged five or older, a figure more than double that of 1990. There are 45 million Hispanophones who speak Spanish as a first or second language, as well as six million Spanish language students, composing the largest national Spanish-speaking community outside of Mexico and making Spanish the Romance language and the Indo-European language with largest number of native speakers in the world. Roughly half of all U.S. Spanish speakers also speak English \"very well,\" based on the self-assessment Census question respondents. The language came to the country since the 16th and 17th centuries with the arrival of Spanish colonists in areas that would later become the states of Florida, Texas, Colorado, New Mexico, Arizona, Nevada, Utah, and California and of the Spanish explorers - who explored areas of 42 states-. Also west of Louisiana Territory was Spanish between 1763 - 1800 (year of the French recovery of territory), after the French and Indian War . After of the incorporation of these states to the U.S. in first half of 19th century, the Spanish language was later reinforced by the acquisition of Puerto Rico in 1898 and by later waves of the Hispanic emigration, basically from Hispanic America , to the United States beginning in the second half of 19th century until today.</td>\n",
       "      <td>The Spanish language is the second most used language in the United States . There are more Spanish speakers in the United States than there are speakers of Chinese, French , German , Italian , Hawaiian , and the Native American languages combined. ACCORDING TO THE 2010 AMERICAN COMMUNITY SURVEY CONDUCTED BY THE U.S. CENSUS BUREAU , SPANISH IS THE PRIMARY LANGUAGE SPOKEN AT HOME BY ALMOST 37 MILLION PEOPLE AGED FIVE OR OLDER, A FIGURE MORE THAN DOUBLE THAT OF 1990. There are 45 million Hispanophones who speak Spanish as a first or second language, as well as six million Spanish language students, composing the largest national Spanish-speaking community outside of Mexico and making Spanish the Romance language and the Indo-European language with largest number of native speakers in the world. Roughly half of all U.S. Spanish speakers also speak English \"very well,\" based on the self-assessment Census question respondents. The language came to the country since the 16th and 17th centuries with the arrival of Spanish colonists in areas that would later become the states of Florida, Texas, Colorado, New Mexico, Arizona, Nevada, Utah, and California and of the Spanish explorers - who explored areas of 42 states-. Also west of Louisiana Territory was Spanish between 1763 - 1800 (year of the French recovery of territory), after the French and Indian War . After of the incorporation of these states to the U.S. in first half of 19th century, the Spanish language was later reinforced by the acquisition of Puerto Rico in 1898 and by later waves of the Hispanic emigration, basically from Hispanic America , to the United States beginning in the second half of 19th century until today.</td>\n",
       "      <td>True</td>\n",
       "    </tr>\n",
       "  </tbody>\n",
       "</table>\n",
       "</div>"
      ],
      "text/plain": [
       "  query_id                                                 input  \\\n",
       "0    Q2717                                 what is pci Interface   \n",
       "1    Q1830                                 who created earth day   \n",
       "2     Q209              what caribbean island is part of France?   \n",
       "3    Q2218                who was the king during macbeth's time   \n",
       "4     Q557  how many spanish speaking people are there in the us   \n",
       "\n",
       "                          document_title  \\\n",
       "0                       Conventional PCI   \n",
       "1                              Earth Day   \n",
       "2                              Caribbean   \n",
       "3                                Macbeth   \n",
       "4  Spanish language in the United States   \n",
       "\n",
       "                                                                                                                                                                                                                                                                                                                                                                                                                                                                                                                                                                                                                                                                                                                                                                                                                                                                                                                                                                                                                                                                                                                                                                                                                                                                                                                                                                                                                                                                                                                                                                                                                                                                                                                                                                                                                                                                                                                                                                                                                                                                                                                                                                                                                                                                                                                                                                                                                                                                                                                                                                                                                                                                                                                                                                                                                                                                                                                   reference  \\\n",
       "0                                                                                                                                                                                                                                                                                                                                                                                                                                                                                                                                                                                                                                                                                                                                                                                                                                                                                    Conventional PCI (PCI is an initialism formed from Peripheral Component Interconnect, part of the PCI Local Bus standard and often shortened to just PCI) is a local computer bus for attaching hardware devices in a computer . The PCI bus supports the functions found on a processor bus , but in a standardized format that is independent of any particular processor. Devices connected to the bus appear to the processor to be connected directly to the processor bus, and are assigned addresses in the processor's address space. Attached devices can take either the form of an integrated circuit fitted onto the motherboard itself, called a planar device in the PCI specification, or an expansion card that fits into a slot. The PCI Local Bus was first implemented in IBM PC compatibles , where it displaced the combination of ISA plus one VESA Local Bus as the bus configuration. It has subsequently been adopted for other computer types. PCI and PCI-X are being replaced by PCI Express , but , most motherboards are still made with one or more PCI slots, which are sufficient for many uses. The PCI specification covers the physical size of the bus (including the size and spacing of the circuit board edge electrical contacts), electrical characteristics, bus timing, and protocols. The specification can be purchased from the PCI Special Interest Group (PCI-SIG). Typical PCI cards used in PCs include: network cards , sound cards , modems , extra ports such as USB or serial , TV tuner cards and disk controllers . PCI video cards replaced ISA and VESA cards, until growing bandwidth requirements outgrew the capabilities of PCI; the preferred interface for video cards became AGP , and then PCI Express. PCI video cards remain available for use with old PCs without AGP or PCI Express slots. Many devices previously provided on PCI expansion cards are now commonly integrated onto motherboards or available in universal serial bus and PCI Express versions.   \n",
       "1                                                                                                                                                                                                                                                                                                                                                                                                                                                                                                                                                                                                                                                                                                                                                                                                                                                                                                                                                                                                                                                                                                                                                                                                                                                                                                                                                                                                                                                                                                                                                                                                                                                                     The Earth Day Flag , the latest proposal of John McConnell for a flag of Earth Day Earth Day is an annual event, celebrated on April 22, on which events are held worldwide to demonstrate support for environmental protection. It was first celebrated in 1970, and is now coordinated globally by the Earth Day Network , and celebrated in more than 192 countries each year. In 1969 at a UNESCO Conference in San Francisco, the date proposed was March 21, 1970, the first day of spring in the northern hemisphere. This day of nature's equipoise was later sanctioned in a Proclamation signed by Secretary General U Thant at the United Nations . A month later a separate Earth Day was founded by United States Senator Gaylord Nelson as an environmental teach-in first held on April 22, 1970. Nelson was later awarded the Presidential Medal of Freedom Award in recognition of his work. While this April 22 Earth Day was focused on the United States, an organization launched by Denis Hayes , who was the original national coordinator in 1970, took it international in 1990 and organized events in 141 nations. Numerous communities celebrate Earth Week, an entire week of activities focused on environmental issues.   \n",
       "2                                                                                                                                                                                                                                                                                                                                                                                                                                                                                                                                                                                                                                                                                                                                                                                                                                                                                                                                                                                                                                                                                                                                                                                                                                                      The Caribbean ( or ; ; ; or more commonly Antilles) is a region that consists of the Caribbean Sea , its islands (some surrounded by the Caribbean Sea and some bordering both the Caribbean Sea and the North Atlantic Ocean), and the surrounding coasts. The region is southeast of the Gulf of Mexico and the North American mainland, east of Central America , and north of South America . Situated largely on the Caribbean Plate , the region comprises more than 700 islands, islets , reefs , and cays . (See the list .) These islands generally form island arcs that delineate the eastern and northern edges of the Caribbean Sea. The Caribbean islands, consisting of the Greater Antilles on the north and the Lesser Antilles on the south and east (including the Leeward Antilles ), are part of the somewhat larger West Indies grouping, which also includes the Lucayan Archipelago (comprising the Bahamas and Turks and Caicos Islands ) north of the Greater Antilles and Caribbean Sea. In a wider sense, the mainland countries of Belize and Guyana – historically and culturally part of the British West Indies – may be included. Geopolitically, the Caribbean islands are usually regarded as a subregion of North America and are organized into 30 territories including sovereign states , overseas departments , and dependencies . From January 3, 1958, to May 31, 1962, there was a short-lived country called the Federation of the West Indies composed of ten English-speaking Caribbean territories, all of which were then UK dependencies. The West Indies cricket team continues to represent many of those nations.   \n",
       "3  A poster for a c. 1884 American production of Macbeth, starring Thomas W. Keene. Depicted, counter clockwise from top-left, are: Macbeth and Banquo meet the witches ; just after the murder of Duncan ; Banquo's ghost; Macbeth duels Macduff; and Macbeth. Macbeth is a play written by William Shakespeare . It is considered one of his darkest and most powerful tragedies. Set in Scotland, the play dramatizes the corroding psychological and political effects produced when its protagonist, the Scottish lord Macbeth, chooses evil as the way to fulfill his ambition for power. He commits regicide to become king and then furthers his moral descent with a reign of murderous terror to stay in power, eventually plunging the country into civil war. In the end, he loses everything that gives meaning and purpose to his life before losing his life itself. The play is believed to have been written between 1603 and 1607, and is most commonly dated 1606. The earliest account of a performance of what was probably Shakespeare's play is April 1611, when Simon Forman recorded seeing such a play at the Globe Theatre . It was first published in the Folio of 1623 , possibly from a prompt book . It was most likely written during the reign of James I , who had been James VI of Scotland before he succeeded to the English throne in 1603. James was a patron of Shakespeare’s acting company, and of all the plays Shakespeare wrote during James’s reign, Macbeth most clearly reflects the playwright’s relationship with the sovereign. Macbeth is Shakespeare’s shortest tragedy, and tells the story of a brave Scottish general named Macbeth who receives a prophecy from a trio of witches that one day he will become King of Scotland. Consumed by ambition and spurred to action by his wife, Macbeth murders King Duncan and takes the throne for himself. His reign is racked with guilt and paranoia, and he soon becomes a tyrannical ruler as he is forced to commit more and more murders to protect himself from enmity and suspicion. The bloodbath swiftly takes Macbeth and Lady Macbeth into realms of arrogance, madness, and death. Shakespeare's source for the tragedy is the account of King Macbeth of Scotland , Macduff, and Duncan in Holinshed's Chronicles (1587), a history of England, Scotland and Ireland familiar to Shakespeare and his contemporaries, although the events in the play differ extensively from the history of the real Macbeth. In the backstage world of theatre, some believe that the play is cursed, and will not mention its title aloud, referring to it instead as \" the Scottish play \". Over the course of many centuries, the play has attracted some of the most renowned actors to the roles of Macbeth and Lady Macbeth. It has been adapted to film, television, opera , novels, comic books, and other media.   \n",
       "4                                                                                                                                                                                                                                                                                                                                                                                                                                                                                                                                                                                                                                                                                                                                                                                                                                                                                                                                                                                                                                                                                                                                                      The Spanish language is the second most used language in the United States . There are more Spanish speakers in the United States than there are speakers of Chinese, French , German , Italian , Hawaiian , and the Native American languages combined. According to the 2010 American Community Survey conducted by the U.S. Census Bureau , Spanish is the primary language spoken at home by almost 37 million people aged five or older, a figure more than double that of 1990. There are 45 million Hispanophones who speak Spanish as a first or second language, as well as six million Spanish language students, composing the largest national Spanish-speaking community outside of Mexico and making Spanish the Romance language and the Indo-European language with largest number of native speakers in the world. Roughly half of all U.S. Spanish speakers also speak English \"very well,\" based on the self-assessment Census question respondents. The language came to the country since the 16th and 17th centuries with the arrival of Spanish colonists in areas that would later become the states of Florida, Texas, Colorado, New Mexico, Arizona, Nevada, Utah, and California and of the Spanish explorers - who explored areas of 42 states-. Also west of Louisiana Territory was Spanish between 1763 - 1800 (year of the French recovery of territory), after the French and Indian War . After of the incorporation of these states to the U.S. in first half of 19th century, the Spanish language was later reinforced by the acquisition of Puerto Rico in 1898 and by later waves of the Hispanic emigration, basically from Hispanic America , to the United States beginning in the second half of 19th century until today.   \n",
       "\n",
       "                                                                                                                                                                                                                                                                                                                                                                                                                                                                                                                                                                                                                                                                                                                                                                                                                                                                                                                                                                                                                                                                                                                                                                                                                                                                                                                                                                                                                                                                                                                                                                                                                                                                                                                                                                                                                                                                                                                                                                                                                                                                                                                                                                                                                                                                                                                                                                                                                                                                                                                                                                                                                                                                                                                                                                                                                                                                                                 document_text_with_emphasis  \\\n",
       "0                                                                                                                                                                                                                                                                                                                                                                                                                                                                                                                                                                                                                                                                                                                                                                                                                                                                                    CONVENTIONAL PCI (PCI IS AN INITIALISM FORMED FROM PERIPHERAL COMPONENT INTERCONNECT, PART OF THE PCI LOCAL BUS STANDARD AND OFTEN SHORTENED TO JUST PCI) IS A LOCAL COMPUTER BUS FOR ATTACHING HARDWARE DEVICES IN A COMPUTER . The PCI bus supports the functions found on a processor bus , but in a standardized format that is independent of any particular processor. Devices connected to the bus appear to the processor to be connected directly to the processor bus, and are assigned addresses in the processor's address space. Attached devices can take either the form of an integrated circuit fitted onto the motherboard itself, called a planar device in the PCI specification, or an expansion card that fits into a slot. The PCI Local Bus was first implemented in IBM PC compatibles , where it displaced the combination of ISA plus one VESA Local Bus as the bus configuration. It has subsequently been adopted for other computer types. PCI and PCI-X are being replaced by PCI Express , but , most motherboards are still made with one or more PCI slots, which are sufficient for many uses. The PCI specification covers the physical size of the bus (including the size and spacing of the circuit board edge electrical contacts), electrical characteristics, bus timing, and protocols. The specification can be purchased from the PCI Special Interest Group (PCI-SIG). Typical PCI cards used in PCs include: network cards , sound cards , modems , extra ports such as USB or serial , TV tuner cards and disk controllers . PCI video cards replaced ISA and VESA cards, until growing bandwidth requirements outgrew the capabilities of PCI; the preferred interface for video cards became AGP , and then PCI Express. PCI video cards remain available for use with old PCs without AGP or PCI Express slots. Many devices previously provided on PCI expansion cards are now commonly integrated onto motherboards or available in universal serial bus and PCI Express versions.   \n",
       "1                                                                                                                                                                                                                                                                                                                                                                                                                                                                                                                                                                                                                                                                                                                                                                                                                                                                                                                                                                                                                                                                                                                                                                                                                                                                                                                                                                                                                                                                                                                                                                                                                                                                     The Earth Day Flag , the latest proposal of John McConnell for a flag of Earth Day Earth Day is an annual event, celebrated on April 22, on which events are held worldwide to demonstrate support for environmental protection. It was first celebrated in 1970, and is now coordinated globally by the Earth Day Network , and celebrated in more than 192 countries each year. In 1969 at a UNESCO Conference in San Francisco, the date proposed was March 21, 1970, the first day of spring in the northern hemisphere. This day of nature's equipoise was later sanctioned in a Proclamation signed by Secretary General U Thant at the United Nations . A month later a separate Earth Day was founded by United States Senator Gaylord Nelson as an environmental teach-in first held on April 22, 1970. Nelson was later awarded the Presidential Medal of Freedom Award in recognition of his work. While this April 22 Earth Day was focused on the United States, an organization launched by Denis Hayes , who was the original national coordinator in 1970, took it international in 1990 and organized events in 141 nations. Numerous communities celebrate Earth Week, an entire week of activities focused on environmental issues.   \n",
       "2                                                                                                                                                                                                                                                                                                                                                                                                                                                                                                                                                                                                                                                                                                                                                                                                                                                                                                                                                                                                                                                                                                                                                                                                                                                      The Caribbean ( or ; ; ; or more commonly Antilles) is a region that consists of the Caribbean Sea , its islands (some surrounded by the Caribbean Sea and some bordering both the Caribbean Sea and the North Atlantic Ocean), and the surrounding coasts. The region is southeast of the Gulf of Mexico and the North American mainland, east of Central America , and north of South America . Situated largely on the Caribbean Plate , the region comprises more than 700 islands, islets , reefs , and cays . (See the list .) These islands generally form island arcs that delineate the eastern and northern edges of the Caribbean Sea. The Caribbean islands, consisting of the Greater Antilles on the north and the Lesser Antilles on the south and east (including the Leeward Antilles ), are part of the somewhat larger West Indies grouping, which also includes the Lucayan Archipelago (comprising the Bahamas and Turks and Caicos Islands ) north of the Greater Antilles and Caribbean Sea. In a wider sense, the mainland countries of Belize and Guyana – historically and culturally part of the British West Indies – may be included. Geopolitically, the Caribbean islands are usually regarded as a subregion of North America and are organized into 30 territories including sovereign states , overseas departments , and dependencies . From January 3, 1958, to May 31, 1962, there was a short-lived country called the Federation of the West Indies composed of ten English-speaking Caribbean territories, all of which were then UK dependencies. The West Indies cricket team continues to represent many of those nations.   \n",
       "3  A poster for a c. 1884 American production of Macbeth, starring Thomas W. Keene. Depicted, counter clockwise from top-left, are: Macbeth and Banquo meet the witches ; just after the murder of Duncan ; Banquo's ghost; Macbeth duels Macduff; and Macbeth. Macbeth is a play written by William Shakespeare . It is considered one of his darkest and most powerful tragedies. Set in Scotland, the play dramatizes the corroding psychological and political effects produced when its protagonist, the Scottish lord Macbeth, chooses evil as the way to fulfill his ambition for power. He commits regicide to become king and then furthers his moral descent with a reign of murderous terror to stay in power, eventually plunging the country into civil war. In the end, he loses everything that gives meaning and purpose to his life before losing his life itself. The play is believed to have been written between 1603 and 1607, and is most commonly dated 1606. The earliest account of a performance of what was probably Shakespeare's play is April 1611, when Simon Forman recorded seeing such a play at the Globe Theatre . It was first published in the Folio of 1623 , possibly from a prompt book . It was most likely written during the reign of James I , who had been James VI of Scotland before he succeeded to the English throne in 1603. James was a patron of Shakespeare’s acting company, and of all the plays Shakespeare wrote during James’s reign, Macbeth most clearly reflects the playwright’s relationship with the sovereign. Macbeth is Shakespeare’s shortest tragedy, and tells the story of a brave Scottish general named Macbeth who receives a prophecy from a trio of witches that one day he will become King of Scotland. Consumed by ambition and spurred to action by his wife, Macbeth murders King Duncan and takes the throne for himself. His reign is racked with guilt and paranoia, and he soon becomes a tyrannical ruler as he is forced to commit more and more murders to protect himself from enmity and suspicion. The bloodbath swiftly takes Macbeth and Lady Macbeth into realms of arrogance, madness, and death. Shakespeare's source for the tragedy is the account of King Macbeth of Scotland , Macduff, and Duncan in Holinshed's Chronicles (1587), a history of England, Scotland and Ireland familiar to Shakespeare and his contemporaries, although the events in the play differ extensively from the history of the real Macbeth. In the backstage world of theatre, some believe that the play is cursed, and will not mention its title aloud, referring to it instead as \" the Scottish play \". Over the course of many centuries, the play has attracted some of the most renowned actors to the roles of Macbeth and Lady Macbeth. It has been adapted to film, television, opera , novels, comic books, and other media.   \n",
       "4                                                                                                                                                                                                                                                                                                                                                                                                                                                                                                                                                                                                                                                                                                                                                                                                                                                                                                                                                                                                                                                                                                                                                      The Spanish language is the second most used language in the United States . There are more Spanish speakers in the United States than there are speakers of Chinese, French , German , Italian , Hawaiian , and the Native American languages combined. ACCORDING TO THE 2010 AMERICAN COMMUNITY SURVEY CONDUCTED BY THE U.S. CENSUS BUREAU , SPANISH IS THE PRIMARY LANGUAGE SPOKEN AT HOME BY ALMOST 37 MILLION PEOPLE AGED FIVE OR OLDER, A FIGURE MORE THAN DOUBLE THAT OF 1990. There are 45 million Hispanophones who speak Spanish as a first or second language, as well as six million Spanish language students, composing the largest national Spanish-speaking community outside of Mexico and making Spanish the Romance language and the Indo-European language with largest number of native speakers in the world. Roughly half of all U.S. Spanish speakers also speak English \"very well,\" based on the self-assessment Census question respondents. The language came to the country since the 16th and 17th centuries with the arrival of Spanish colonists in areas that would later become the states of Florida, Texas, Colorado, New Mexico, Arizona, Nevada, Utah, and California and of the Spanish explorers - who explored areas of 42 states-. Also west of Louisiana Territory was Spanish between 1763 - 1800 (year of the French recovery of territory), after the French and Indian War . After of the incorporation of these states to the U.S. in first half of 19th century, the Spanish language was later reinforced by the acquisition of Puerto Rico in 1898 and by later waves of the Hispanic emigration, basically from Hispanic America , to the United States beginning in the second half of 19th century until today.   \n",
       "\n",
       "   relevant  \n",
       "0      True  \n",
       "1     False  \n",
       "2     False  \n",
       "3     False  \n",
       "4      True  "
      ]
     },
     "execution_count": 62,
     "metadata": {},
     "output_type": "execute_result"
    }
   ],
   "source": [
    "df_sample = pd.read_csv(\"benchmark_samples.csv\")\n",
    "df_sample.head()"
   ]
  },
  {
   "cell_type": "markdown",
   "id": "930fd2e6-0b5e-4112-ad5d-a91936096b9b",
   "metadata": {},
   "source": [
    "## Run relevance classifications with Gemini"
   ]
  },
  {
   "cell_type": "code",
   "execution_count": 63,
   "id": "76f49d7e-3d6a-4919-8741-0d0508a8cee8",
   "metadata": {},
   "outputs": [],
   "source": [
    "import nest_asyncio\n",
    "\n",
    "nest_asyncio.apply() #Enables async request submission in notebooks to speed up inference"
   ]
  },
  {
   "cell_type": "code",
   "execution_count": 64,
   "id": "ec900e07-f512-4ffd-8cf9-2bfb730d3456",
   "metadata": {},
   "outputs": [],
   "source": [
    "import pandas as pd\n",
    "import time\n",
    "import re\n",
    "import json\n",
    "\n",
    "# 1. Relevance classification evaluation criteria\n",
    "evaluation_prompt_template = \"\"\"\n",
    "Compare the Input text to the Reference text. Determine whether the Reference text contains information that answers the question in the Input text.\n",
    "\n",
    "Respond ONLY in JSON format with the following keys:\n",
    "- \"label\": either \"True\" or \"False\" but nothing else. True means the reference text is relevant and false means it is not relevant.\n",
    "- \"critique\": a detailed explanation of the label\n",
    "\n",
    "Example:\n",
    "{{\n",
    "  \"label\": \"False\",\n",
    "  \"critique\": \"The response does not directly answer the question of who killed Julius Caesar. Instead, it provides a detailed biography of Julius Caesar, including his life, achievements, and death. While it mentions that Caesar was assassinated by a group of senators led by Marcus Junius Brutus, this information is buried within a lengthy passage and does not clearly address the user's question. To improve, the response should focus on providing a clear and concise answer to the user's question, rather than providing unnecessary background information.\n",
    "}}\n",
    "\n",
    "Question: {model_input}\n",
    "\n",
    "Reference: {reference}\n",
    "\n",
    "Answer:\n",
    "\"\"\"\n",
    "\n",
    "# 2. Define the classifier function\n",
    "\n",
    "def evaluate_row(row):\n",
    "    prompt = evaluation_prompt_template.format(\n",
    "        model_input=row[\"input\"],\n",
    "        reference=row[\"reference\"],\n",
    "        # model_output=row[\"model_output\"]\n",
    "    )\n",
    "\n",
    "    try:\n",
    "        response = model.generate_content(prompt)\n",
    "        text = response.text.strip()\n",
    "\n",
    "        # Try to extract valid JSON block\n",
    "        json_str_match = re.search(r'\\{.*\\}', text, re.DOTALL)\n",
    "        if not json_str_match:\n",
    "            raise ValueError(\"No JSON found in model response\")\n",
    "\n",
    "        json_data = json.loads(json_str_match.group())\n",
    "        label = json_data.get(\"label\", \"Unknown\")\n",
    "        critique = json_data.get(\"critique\", \"No critique\")\n",
    "\n",
    "        return {\n",
    "            \"model_input\": row[\"input\"],\n",
    "            \"model_output\": row[\"reference\"],\n",
    "            \"critique\": critique,\n",
    "            \"score\": label\n",
    "        }\n",
    "\n",
    "    except Exception as e:\n",
    "        return {\n",
    "            \"model_input\": row[\"input\"],\n",
    "            \"model_output\": row[\"reference\"],\n",
    "            \"critique\": f\"Error: {e}\",\n",
    "            \"score\": \"Error\"\n",
    "        }\n",
    "\n",
    "# 3. Iterate and evaluate all rows\n",
    "results_list = []\n",
    "\n",
    "for _, row in df_sample.iterrows():\n",
    "    result_dict = {\"evaluation\": evaluate_row(row)}\n",
    "    results_list.append({\n",
    "        \"model_input\": row[\"input\"],\n",
    "        \"model_output\": row[\"reference\"],\n",
    "        \"critique\": result_dict['evaluation']['critique'],\n",
    "        \"score\": result_dict['evaluation']['score'],\n",
    "    })\n",
    "    time.sleep(0.5)  # Optional delay"
   ]
  },
  {
   "cell_type": "code",
   "execution_count": 65,
   "id": "c8ad2cda-f7fa-4d14-898c-f10941c47ebf",
   "metadata": {},
   "outputs": [
    {
     "data": {
      "text/html": [
       "<div>\n",
       "<style scoped>\n",
       "    .dataframe tbody tr th:only-of-type {\n",
       "        vertical-align: middle;\n",
       "    }\n",
       "\n",
       "    .dataframe tbody tr th {\n",
       "        vertical-align: top;\n",
       "    }\n",
       "\n",
       "    .dataframe thead th {\n",
       "        text-align: right;\n",
       "    }\n",
       "</style>\n",
       "<table border=\"1\" class=\"dataframe\">\n",
       "  <thead>\n",
       "    <tr style=\"text-align: right;\">\n",
       "      <th></th>\n",
       "      <th>model_input</th>\n",
       "      <th>model_output</th>\n",
       "      <th>critique</th>\n",
       "      <th>score</th>\n",
       "    </tr>\n",
       "  </thead>\n",
       "  <tbody>\n",
       "    <tr>\n",
       "      <th>0</th>\n",
       "      <td>what is pci Interface</td>\n",
       "      <td>Conventional PCI (PCI is an initialism formed from Peripheral Component Interconnect, part of the PCI Local Bus standard and often shortened to just PCI) is a local computer bus for attaching hardware devices in a computer . The PCI bus supports the functions found on a processor bus , but in a standardized format that is independent of any particular processor. Devices connected to the bus appear to the processor to be connected directly to the processor bus, and are assigned addresses in the processor's address space. Attached devices can take either the form of an integrated circuit fitted onto the motherboard itself, called a planar device in the PCI specification, or an expansion card that fits into a slot. The PCI Local Bus was first implemented in IBM PC compatibles , where it displaced the combination of ISA plus one VESA Local Bus as the bus configuration. It has subsequently been adopted for other computer types. PCI and PCI-X are being replaced by PCI Express , but , most motherboards are still made with one or more PCI slots, which are sufficient for many uses. The PCI specification covers the physical size of the bus (including the size and spacing of the circuit board edge electrical contacts), electrical characteristics, bus timing, and protocols. The specification can be purchased from the PCI Special Interest Group (PCI-SIG). Typical PCI cards used in PCs include: network cards , sound cards , modems , extra ports such as USB or serial , TV tuner cards and disk controllers . PCI video cards replaced ISA and VESA cards, until growing bandwidth requirements outgrew the capabilities of PCI; the preferred interface for video cards became AGP , and then PCI Express. PCI video cards remain available for use with old PCs without AGP or PCI Express slots. Many devices previously provided on PCI expansion cards are now commonly integrated onto motherboards or available in universal serial bus and PCI Express versions.</td>\n",
       "      <td>The reference text directly answers the question by defining what PCI (Peripheral Component Interconnect) is and describing its purpose and function within a computer system. It details its role as a local computer bus for attaching hardware devices, its relationship to the processor bus, and the types of devices that utilize PCI.</td>\n",
       "      <td>True</td>\n",
       "    </tr>\n",
       "    <tr>\n",
       "      <th>1</th>\n",
       "      <td>who created earth day</td>\n",
       "      <td>The Earth Day Flag , the latest proposal of John McConnell for a flag of Earth Day Earth Day is an annual event, celebrated on April 22, on which events are held worldwide to demonstrate support for environmental protection. It was first celebrated in 1970, and is now coordinated globally by the Earth Day Network , and celebrated in more than 192 countries each year. In 1969 at a UNESCO Conference in San Francisco, the date proposed was March 21, 1970, the first day of spring in the northern hemisphere. This day of nature's equipoise was later sanctioned in a Proclamation signed by Secretary General U Thant at the United Nations . A month later a separate Earth Day was founded by United States Senator Gaylord Nelson as an environmental teach-in first held on April 22, 1970. Nelson was later awarded the Presidential Medal of Freedom Award in recognition of his work. While this April 22 Earth Day was focused on the United States, an organization launched by Denis Hayes , who was the original national coordinator in 1970, took it international in 1990 and organized events in 141 nations. Numerous communities celebrate Earth Week, an entire week of activities focused on environmental issues.</td>\n",
       "      <td>The reference text directly answers the question of who created Earth Day. It states that United States Senator Gaylord Nelson founded Earth Day as an environmental teach-in first held on April 22, 1970. It also mentions John McConnell's proposal for a flag of Earth Day and Denis Hayes taking it international, but Nelson is identified as the founder.</td>\n",
       "      <td>True</td>\n",
       "    </tr>\n",
       "    <tr>\n",
       "      <th>2</th>\n",
       "      <td>what caribbean island is part of France?</td>\n",
       "      <td>The Caribbean ( or ; ; ; or more commonly Antilles) is a region that consists of the Caribbean Sea , its islands (some surrounded by the Caribbean Sea and some bordering both the Caribbean Sea and the North Atlantic Ocean), and the surrounding coasts. The region is southeast of the Gulf of Mexico and the North American mainland, east of Central America , and north of South America . Situated largely on the Caribbean Plate , the region comprises more than 700 islands, islets , reefs , and cays . (See the list .) These islands generally form island arcs that delineate the eastern and northern edges of the Caribbean Sea. The Caribbean islands, consisting of the Greater Antilles on the north and the Lesser Antilles on the south and east (including the Leeward Antilles ), are part of the somewhat larger West Indies grouping, which also includes the Lucayan Archipelago (comprising the Bahamas and Turks and Caicos Islands ) north of the Greater Antilles and Caribbean Sea. In a wider sense, the mainland countries of Belize and Guyana – historically and culturally part of the British West Indies – may be included. Geopolitically, the Caribbean islands are usually regarded as a subregion of North America and are organized into 30 territories including sovereign states , overseas departments , and dependencies . From January 3, 1958, to May 31, 1962, there was a short-lived country called the Federation of the West Indies composed of ten English-speaking Caribbean territories, all of which were then UK dependencies. The West Indies cricket team continues to represent many of those nations.</td>\n",
       "      <td>The reference text broadly describes the Caribbean region but does not identify specific islands that are part of France. Therefore, it doesn't answer the question.</td>\n",
       "      <td>False</td>\n",
       "    </tr>\n",
       "    <tr>\n",
       "      <th>3</th>\n",
       "      <td>who was the king during macbeth's time</td>\n",
       "      <td>A poster for a c. 1884 American production of Macbeth, starring Thomas W. Keene. Depicted, counter clockwise from top-left, are: Macbeth and Banquo meet the witches ; just after the murder of Duncan ; Banquo's ghost; Macbeth duels Macduff; and Macbeth. Macbeth is a play written by William Shakespeare . It is considered one of his darkest and most powerful tragedies. Set in Scotland, the play dramatizes the corroding psychological and political effects produced when its protagonist, the Scottish lord Macbeth, chooses evil as the way to fulfill his ambition for power. He commits regicide to become king and then furthers his moral descent with a reign of murderous terror to stay in power, eventually plunging the country into civil war. In the end, he loses everything that gives meaning and purpose to his life before losing his life itself. The play is believed to have been written between 1603 and 1607, and is most commonly dated 1606. The earliest account of a performance of what was probably Shakespeare's play is April 1611, when Simon Forman recorded seeing such a play at the Globe Theatre . It was first published in the Folio of 1623 , possibly from a prompt book . It was most likely written during the reign of James I , who had been James VI of Scotland before he succeeded to the English throne in 1603. James was a patron of Shakespeare’s acting company, and of all the plays Shakespeare wrote during James’s reign, Macbeth most clearly reflects the playwright’s relationship with the sovereign. Macbeth is Shakespeare’s shortest tragedy, and tells the story of a brave Scottish general named Macbeth who receives a prophecy from a trio of witches that one day he will become King of Scotland. Consumed by ambition and spurred to action by his wife, Macbeth murders King Duncan and takes the throne for himself. His reign is racked with guilt and paranoia, and he soon becomes a tyrannical ruler as he is forced to commit more and more murders to protect himself from enmity and suspicion. The bloodbath swiftly takes Macbeth and Lady Macbeth into realms of arrogance, madness, and death. Shakespeare's source for the tragedy is the account of King Macbeth of Scotland , Macduff, and Duncan in Holinshed's Chronicles (1587), a history of England, Scotland and Ireland familiar to Shakespeare and his contemporaries, although the events in the play differ extensively from the history of the real Macbeth. In the backstage world of theatre, some believe that the play is cursed, and will not mention its title aloud, referring to it instead as \" the Scottish play \". Over the course of many centuries, the play has attracted some of the most renowned actors to the roles of Macbeth and Lady Macbeth. It has been adapted to film, television, opera , novels, comic books, and other media.</td>\n",
       "      <td>The reference text directly answers the question. It states that Macbeth murders King Duncan to take the throne. Therefore, Duncan was king during Macbeth's time (before Macbeth killed him).</td>\n",
       "      <td>True</td>\n",
       "    </tr>\n",
       "    <tr>\n",
       "      <th>4</th>\n",
       "      <td>how many spanish speaking people are there in the us</td>\n",
       "      <td>The Spanish language is the second most used language in the United States . There are more Spanish speakers in the United States than there are speakers of Chinese, French , German , Italian , Hawaiian , and the Native American languages combined. According to the 2010 American Community Survey conducted by the U.S. Census Bureau , Spanish is the primary language spoken at home by almost 37 million people aged five or older, a figure more than double that of 1990. There are 45 million Hispanophones who speak Spanish as a first or second language, as well as six million Spanish language students, composing the largest national Spanish-speaking community outside of Mexico and making Spanish the Romance language and the Indo-European language with largest number of native speakers in the world. Roughly half of all U.S. Spanish speakers also speak English \"very well,\" based on the self-assessment Census question respondents. The language came to the country since the 16th and 17th centuries with the arrival of Spanish colonists in areas that would later become the states of Florida, Texas, Colorado, New Mexico, Arizona, Nevada, Utah, and California and of the Spanish explorers - who explored areas of 42 states-. Also west of Louisiana Territory was Spanish between 1763 - 1800 (year of the French recovery of territory), after the French and Indian War . After of the incorporation of these states to the U.S. in first half of 19th century, the Spanish language was later reinforced by the acquisition of Puerto Rico in 1898 and by later waves of the Hispanic emigration, basically from Hispanic America , to the United States beginning in the second half of 19th century until today.</td>\n",
       "      <td>The reference text provides an estimate of the number of Spanish speakers in the US, stating that there are \"45 million Hispanophones who speak Spanish as a first or second language\". Therefore, it answers the question in the input text.</td>\n",
       "      <td>True</td>\n",
       "    </tr>\n",
       "  </tbody>\n",
       "</table>\n",
       "</div>"
      ],
      "text/plain": [
       "                                            model_input  \\\n",
       "0                                 what is pci Interface   \n",
       "1                                 who created earth day   \n",
       "2              what caribbean island is part of France?   \n",
       "3                who was the king during macbeth's time   \n",
       "4  how many spanish speaking people are there in the us   \n",
       "\n",
       "                                                                                                                                                                                                                                                                                                                                                                                                                                                                                                                                                                                                                                                                                                                                                                                                                                                                                                                                                                                                                                                                                                                                                                                                                                                                                                                                                                                                                                                                                                                                                                                                                                                                                                                                                                                                                                                                                                                                                                                                                                                                                                                                                                                                                                                                                                                                                                                                                                                                                                                                                                                                                                                                                                                                                                                                                                                                                                                model_output  \\\n",
       "0                                                                                                                                                                                                                                                                                                                                                                                                                                                                                                                                                                                                                                                                                                                                                                                                                                                                                    Conventional PCI (PCI is an initialism formed from Peripheral Component Interconnect, part of the PCI Local Bus standard and often shortened to just PCI) is a local computer bus for attaching hardware devices in a computer . The PCI bus supports the functions found on a processor bus , but in a standardized format that is independent of any particular processor. Devices connected to the bus appear to the processor to be connected directly to the processor bus, and are assigned addresses in the processor's address space. Attached devices can take either the form of an integrated circuit fitted onto the motherboard itself, called a planar device in the PCI specification, or an expansion card that fits into a slot. The PCI Local Bus was first implemented in IBM PC compatibles , where it displaced the combination of ISA plus one VESA Local Bus as the bus configuration. It has subsequently been adopted for other computer types. PCI and PCI-X are being replaced by PCI Express , but , most motherboards are still made with one or more PCI slots, which are sufficient for many uses. The PCI specification covers the physical size of the bus (including the size and spacing of the circuit board edge electrical contacts), electrical characteristics, bus timing, and protocols. The specification can be purchased from the PCI Special Interest Group (PCI-SIG). Typical PCI cards used in PCs include: network cards , sound cards , modems , extra ports such as USB or serial , TV tuner cards and disk controllers . PCI video cards replaced ISA and VESA cards, until growing bandwidth requirements outgrew the capabilities of PCI; the preferred interface for video cards became AGP , and then PCI Express. PCI video cards remain available for use with old PCs without AGP or PCI Express slots. Many devices previously provided on PCI expansion cards are now commonly integrated onto motherboards or available in universal serial bus and PCI Express versions.   \n",
       "1                                                                                                                                                                                                                                                                                                                                                                                                                                                                                                                                                                                                                                                                                                                                                                                                                                                                                                                                                                                                                                                                                                                                                                                                                                                                                                                                                                                                                                                                                                                                                                                                                                                                     The Earth Day Flag , the latest proposal of John McConnell for a flag of Earth Day Earth Day is an annual event, celebrated on April 22, on which events are held worldwide to demonstrate support for environmental protection. It was first celebrated in 1970, and is now coordinated globally by the Earth Day Network , and celebrated in more than 192 countries each year. In 1969 at a UNESCO Conference in San Francisco, the date proposed was March 21, 1970, the first day of spring in the northern hemisphere. This day of nature's equipoise was later sanctioned in a Proclamation signed by Secretary General U Thant at the United Nations . A month later a separate Earth Day was founded by United States Senator Gaylord Nelson as an environmental teach-in first held on April 22, 1970. Nelson was later awarded the Presidential Medal of Freedom Award in recognition of his work. While this April 22 Earth Day was focused on the United States, an organization launched by Denis Hayes , who was the original national coordinator in 1970, took it international in 1990 and organized events in 141 nations. Numerous communities celebrate Earth Week, an entire week of activities focused on environmental issues.   \n",
       "2                                                                                                                                                                                                                                                                                                                                                                                                                                                                                                                                                                                                                                                                                                                                                                                                                                                                                                                                                                                                                                                                                                                                                                                                                                                      The Caribbean ( or ; ; ; or more commonly Antilles) is a region that consists of the Caribbean Sea , its islands (some surrounded by the Caribbean Sea and some bordering both the Caribbean Sea and the North Atlantic Ocean), and the surrounding coasts. The region is southeast of the Gulf of Mexico and the North American mainland, east of Central America , and north of South America . Situated largely on the Caribbean Plate , the region comprises more than 700 islands, islets , reefs , and cays . (See the list .) These islands generally form island arcs that delineate the eastern and northern edges of the Caribbean Sea. The Caribbean islands, consisting of the Greater Antilles on the north and the Lesser Antilles on the south and east (including the Leeward Antilles ), are part of the somewhat larger West Indies grouping, which also includes the Lucayan Archipelago (comprising the Bahamas and Turks and Caicos Islands ) north of the Greater Antilles and Caribbean Sea. In a wider sense, the mainland countries of Belize and Guyana – historically and culturally part of the British West Indies – may be included. Geopolitically, the Caribbean islands are usually regarded as a subregion of North America and are organized into 30 territories including sovereign states , overseas departments , and dependencies . From January 3, 1958, to May 31, 1962, there was a short-lived country called the Federation of the West Indies composed of ten English-speaking Caribbean territories, all of which were then UK dependencies. The West Indies cricket team continues to represent many of those nations.   \n",
       "3  A poster for a c. 1884 American production of Macbeth, starring Thomas W. Keene. Depicted, counter clockwise from top-left, are: Macbeth and Banquo meet the witches ; just after the murder of Duncan ; Banquo's ghost; Macbeth duels Macduff; and Macbeth. Macbeth is a play written by William Shakespeare . It is considered one of his darkest and most powerful tragedies. Set in Scotland, the play dramatizes the corroding psychological and political effects produced when its protagonist, the Scottish lord Macbeth, chooses evil as the way to fulfill his ambition for power. He commits regicide to become king and then furthers his moral descent with a reign of murderous terror to stay in power, eventually plunging the country into civil war. In the end, he loses everything that gives meaning and purpose to his life before losing his life itself. The play is believed to have been written between 1603 and 1607, and is most commonly dated 1606. The earliest account of a performance of what was probably Shakespeare's play is April 1611, when Simon Forman recorded seeing such a play at the Globe Theatre . It was first published in the Folio of 1623 , possibly from a prompt book . It was most likely written during the reign of James I , who had been James VI of Scotland before he succeeded to the English throne in 1603. James was a patron of Shakespeare’s acting company, and of all the plays Shakespeare wrote during James’s reign, Macbeth most clearly reflects the playwright’s relationship with the sovereign. Macbeth is Shakespeare’s shortest tragedy, and tells the story of a brave Scottish general named Macbeth who receives a prophecy from a trio of witches that one day he will become King of Scotland. Consumed by ambition and spurred to action by his wife, Macbeth murders King Duncan and takes the throne for himself. His reign is racked with guilt and paranoia, and he soon becomes a tyrannical ruler as he is forced to commit more and more murders to protect himself from enmity and suspicion. The bloodbath swiftly takes Macbeth and Lady Macbeth into realms of arrogance, madness, and death. Shakespeare's source for the tragedy is the account of King Macbeth of Scotland , Macduff, and Duncan in Holinshed's Chronicles (1587), a history of England, Scotland and Ireland familiar to Shakespeare and his contemporaries, although the events in the play differ extensively from the history of the real Macbeth. In the backstage world of theatre, some believe that the play is cursed, and will not mention its title aloud, referring to it instead as \" the Scottish play \". Over the course of many centuries, the play has attracted some of the most renowned actors to the roles of Macbeth and Lady Macbeth. It has been adapted to film, television, opera , novels, comic books, and other media.   \n",
       "4                                                                                                                                                                                                                                                                                                                                                                                                                                                                                                                                                                                                                                                                                                                                                                                                                                                                                                                                                                                                                                                                                                                                                      The Spanish language is the second most used language in the United States . There are more Spanish speakers in the United States than there are speakers of Chinese, French , German , Italian , Hawaiian , and the Native American languages combined. According to the 2010 American Community Survey conducted by the U.S. Census Bureau , Spanish is the primary language spoken at home by almost 37 million people aged five or older, a figure more than double that of 1990. There are 45 million Hispanophones who speak Spanish as a first or second language, as well as six million Spanish language students, composing the largest national Spanish-speaking community outside of Mexico and making Spanish the Romance language and the Indo-European language with largest number of native speakers in the world. Roughly half of all U.S. Spanish speakers also speak English \"very well,\" based on the self-assessment Census question respondents. The language came to the country since the 16th and 17th centuries with the arrival of Spanish colonists in areas that would later become the states of Florida, Texas, Colorado, New Mexico, Arizona, Nevada, Utah, and California and of the Spanish explorers - who explored areas of 42 states-. Also west of Louisiana Territory was Spanish between 1763 - 1800 (year of the French recovery of territory), after the French and Indian War . After of the incorporation of these states to the U.S. in first half of 19th century, the Spanish language was later reinforced by the acquisition of Puerto Rico in 1898 and by later waves of the Hispanic emigration, basically from Hispanic America , to the United States beginning in the second half of 19th century until today.   \n",
       "\n",
       "                                                                                                                                                                                                                                                                                                                                                           critique  \\\n",
       "0                      The reference text directly answers the question by defining what PCI (Peripheral Component Interconnect) is and describing its purpose and function within a computer system. It details its role as a local computer bus for attaching hardware devices, its relationship to the processor bus, and the types of devices that utilize PCI.   \n",
       "1  The reference text directly answers the question of who created Earth Day. It states that United States Senator Gaylord Nelson founded Earth Day as an environmental teach-in first held on April 22, 1970. It also mentions John McConnell's proposal for a flag of Earth Day and Denis Hayes taking it international, but Nelson is identified as the founder.   \n",
       "2                                                                                                                                                                                              The reference text broadly describes the Caribbean region but does not identify specific islands that are part of France. Therefore, it doesn't answer the question.   \n",
       "3                                                                                                                                                                    The reference text directly answers the question. It states that Macbeth murders King Duncan to take the throne. Therefore, Duncan was king during Macbeth's time (before Macbeth killed him).   \n",
       "4                                                                                                                     The reference text provides an estimate of the number of Spanish speakers in the US, stating that there are \"45 million Hispanophones who speak Spanish as a first or second language\". Therefore, it answers the question in the input text.   \n",
       "\n",
       "   score  \n",
       "0   True  \n",
       "1   True  \n",
       "2  False  \n",
       "3   True  \n",
       "4   True  "
      ]
     },
     "metadata": {},
     "output_type": "display_data"
    }
   ],
   "source": [
    "# 4. Convert to dataframe\n",
    "results_df = pd.DataFrame(results_list)\n",
    "display(results_df.head())"
   ]
  },
  {
   "cell_type": "markdown",
   "id": "4007c338-ef36-44ce-84e1-8fccbc5f6e18",
   "metadata": {},
   "source": [
    "## Analyse accuracy of Gemini's evaluation"
   ]
  },
  {
   "cell_type": "code",
   "execution_count": 66,
   "id": "6bfbd147-f40e-4858-a1ea-3d98b261a15f",
   "metadata": {},
   "outputs": [],
   "source": [
    "relevance_classifications=results_df[\"score\"].tolist()\n",
    "# display(relevance_classifications)\n",
    "\n",
    "true_labels = df_sample[\"relevant\"].tolist()\n",
    "# display(true_labels)"
   ]
  },
  {
   "cell_type": "code",
   "execution_count": 67,
   "id": "8a26bf99-0f88-4d3e-99c6-9781f5b75429",
   "metadata": {},
   "outputs": [
    {
     "name": "stdout",
     "output_type": "stream",
     "text": [
      "              precision    recall  f1-score   support\n",
      "\n",
      "        True       0.53      0.90      0.67        10\n",
      "       False       0.92      0.60      0.73        20\n",
      "\n",
      "    accuracy                           0.70        30\n",
      "   macro avg       0.73      0.75      0.70        30\n",
      "weighted avg       0.79      0.70      0.71        30\n",
      "\n"
     ]
    },
    {
     "data": {
      "image/png": "[encoded data removed]",
      "text/plain": [
       "<Figure size 640x480 with 2 Axes>"
      ]
     },
     "metadata": {},
     "output_type": "display_data"
    }
   ],
   "source": [
    "import matplotlib.pyplot as plt\n",
    "import pandas as pd\n",
    "from pycm import ConfusionMatrix\n",
    "from sklearn.metrics import classification_report\n",
    "\n",
    "confusion_matrix = ConfusionMatrix(\n",
    "    actual_vector=true_labels, predict_vector=relevance_classifications, classes=['True','False']\n",
    ")\n",
    "confusion_matrix.plot(\n",
    "    cmap=plt.colormaps[\"Blues\"],\n",
    "    number_label=True,\n",
    "    normalized=True,\n",
    ")\n",
    "\n",
    "true_labels = [str(x) for x in true_labels]\n",
    "relevance_classifications = [str(x) for x in relevance_classifications]\n",
    "print(classification_report(true_labels, relevance_classifications, labels=['True', 'False']))"
   ]
  },
  {
   "cell_type": "markdown",
   "id": "595c2f3b-f2c3-44dd-9985-9d8d736205a9",
   "metadata": {},
   "source": [
    "## Troubleshooting (IGNORE)"
   ]
  },
  {
   "cell_type": "code",
   "execution_count": 68,
   "id": "3519a70f-cb7f-4fa9-bafc-2149404b4f5c",
   "metadata": {},
   "outputs": [],
   "source": [
    "# input=\"who killed julius caesar\",\n",
    "# reference=\"Gaius Julius Caesar (, July 100 BC – 15 March 44 BC) was a Roman general , statesman , Consul and notable author of Latin prose. He played a critical role in the events that led to the demise of the Roman Republic and the rise of the Roman Empire . In 60 BC, Caesar, Crassus and Pompey formed a political alliance that was to dominate Roman politics for several years. Their attempts to amass power through populist tactics were opposed by the conservative elite within the Roman Senate , among them Cato the Younger with the frequent support of Cicero . Caesar's conquest of Gaul , completed by 51 BC, extended Rome's territory to the English Channel and the Rhine . Caesar became the first Roman general to cross both when he built a bridge across the Rhine and conducted the first invasion of Britain . These achievements granted him unmatched military power and threatened to eclipse the standing of Pompey, who had realigned himself with the Senate after the death of Crassus in 53 BC. With the Gallic Wars concluded, the Senate ordered Caesar to lay down his military command and return to Rome. Caesar refused, and marked his defiance in 49 BC by crossing the Rubicon with a legion , leaving his province and illegally entering Roman territory under arms. Civil war resulted, from which he emerged as the unrivaled leader of Rome. After assuming control of government, Caesar began a program of social and governmental reforms, including the creation of the Julian calendar . He centralised the bureaucracy of the Republic and was eventually proclaimed 'dictator in perpetuity'. But the underlying political conflicts had not been resolved, and on the Ides of March (15 March) 44 BC, Caesar was assassinated by a group of senators led by Marcus Junius Brutus . A new series of civil wars broke out, and the constitutional government of the Republic was never restored. Caesar's adopted heir Octavian, later known as Augustus , rose to sole power, and the era of the Roman Empire began. Much of Caesar's life is known from his own accounts of his military campaigns, and from other contemporary sources, mainly the letters and speeches of Cicero and the historical writings of Sallust . The later biographies of Caesar by Suetonius and Plutarch are also major sources. Caesar is deemed to be one of the greatest military commanders of history.\",\n",
    "\n",
    "# prompt = evaluation_prompt_template.format(\n",
    "#         model_input=\"input\",\n",
    "#         reference=\"reference\",\n",
    "#         # model_output=row[\"model_output\"]\n",
    "#     )\n",
    "\n",
    "\n",
    "# response = model.generate_content(prompt)\n",
    "# text = response.text.strip()\n",
    "\n",
    "# print(text)"
   ]
  }
 ],
 "metadata": {
  "kernelspec": {
   "display_name": "Python 3 (ipykernel)",
   "language": "python",
   "name": "python3"
  },
  "language_info": {
   "codemirror_mode": {
    "name": "ipython",
    "version": 3
   },
   "file_extension": ".py",
   "mimetype": "text/x-python",
   "name": "python",
   "nbconvert_exporter": "python",
   "pygments_lexer": "ipython3",
   "version": "3.13.1"
  }
 },
 "nbformat": 4,
 "nbformat_minor": 5
}
